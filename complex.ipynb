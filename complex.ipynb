{
 "cells": [
  {
   "cell_type": "code",
   "execution_count": 1,
   "id": "351d805b-33d4-43de-81a5-1d0f2fd4c347",
   "metadata": {},
   "outputs": [],
   "source": [
    "# Complex\n",
    "\n",
    "    # Complex contsructor is complex()\n",
    "    # Complex literal is 0j\n",
    "    # Complex \n"
   ]
  },
  {
   "cell_type": "code",
   "execution_count": null,
   "id": "b56e2a95-362f-47e1-9805-6c5fcd51982e",
   "metadata": {},
   "outputs": [],
   "source": []
  },
  {
   "cell_type": "code",
   "execution_count": 2,
   "id": "31a82b73-9845-490d-8aea-7876a2d55008",
   "metadata": {},
   "outputs": [],
   "source": [
    "a=complex()"
   ]
  },
  {
   "cell_type": "code",
   "execution_count": 3,
   "id": "0421c20e-c8e1-432a-9395-aa2bf570765e",
   "metadata": {},
   "outputs": [
    {
     "name": "stdout",
     "output_type": "stream",
     "text": [
      "0j\n"
     ]
    }
   ],
   "source": [
    "print(a)"
   ]
  },
  {
   "cell_type": "code",
   "execution_count": 4,
   "id": "0590d7ca-baa2-4354-9e3e-8ee58821a3c1",
   "metadata": {},
   "outputs": [],
   "source": [
    "a=23j    #23j  this is a imaginary number"
   ]
  },
  {
   "cell_type": "code",
   "execution_count": 5,
   "id": "6731bece-9ea4-4740-a2a7-969d4db40725",
   "metadata": {},
   "outputs": [
    {
     "name": "stdout",
     "output_type": "stream",
     "text": [
      "23j\n"
     ]
    }
   ],
   "source": [
    "print(a)"
   ]
  },
  {
   "cell_type": "code",
   "execution_count": 6,
   "id": "2778e101-f387-4ab1-ab90-91f9b2c64975",
   "metadata": {},
   "outputs": [
    {
     "data": {
      "text/plain": [
       "(1+0j)"
      ]
     },
     "execution_count": 6,
     "metadata": {},
     "output_type": "execute_result"
    }
   ],
   "source": [
    "complex(1)"
   ]
  },
  {
   "cell_type": "code",
   "execution_count": 7,
   "id": "5be50b3d-7dbc-454f-9d54-59d8b02b6759",
   "metadata": {},
   "outputs": [
    {
     "data": {
      "text/plain": [
       "(1+10j)"
      ]
     },
     "execution_count": 7,
     "metadata": {},
     "output_type": "execute_result"
    }
   ],
   "source": [
    "# in the complex there is only two arguments\n",
    "complex(1,10)"
   ]
  },
  {
   "cell_type": "code",
   "execution_count": 8,
   "id": "bf773efb-b52a-4bc0-b57a-2827023a7c54",
   "metadata": {},
   "outputs": [
    {
     "ename": "TypeError",
     "evalue": "complex() takes at most 2 arguments (3 given)",
     "output_type": "error",
     "traceback": [
      "\u001b[1;31m---------------------------------------------------------------------------\u001b[0m",
      "\u001b[1;31mTypeError\u001b[0m                                 Traceback (most recent call last)",
      "Cell \u001b[1;32mIn[8], line 1\u001b[0m\n\u001b[1;32m----> 1\u001b[0m \u001b[38;5;28;43mcomplex\u001b[39;49m\u001b[43m(\u001b[49m\u001b[38;5;241;43m1\u001b[39;49m\u001b[43m,\u001b[49m\u001b[38;5;241;43m2\u001b[39;49m\u001b[43m,\u001b[49m\u001b[38;5;241;43m3\u001b[39;49m\u001b[43m)\u001b[49m\n",
      "\u001b[1;31mTypeError\u001b[0m: complex() takes at most 2 arguments (3 given)"
     ]
    }
   ],
   "source": [
    "complex(1,2,3)   # it gives error when we put more than 2 elements "
   ]
  },
  {
   "cell_type": "code",
   "execution_count": null,
   "id": "9e64db89-cf98-431a-b7ce-5f44e1179be3",
   "metadata": {},
   "outputs": [],
   "source": []
  }
 ],
 "metadata": {
  "kernelspec": {
   "display_name": "Python 3 (ipykernel)",
   "language": "python",
   "name": "python3"
  },
  "language_info": {
   "codemirror_mode": {
    "name": "ipython",
    "version": 3
   },
   "file_extension": ".py",
   "mimetype": "text/x-python",
   "name": "python",
   "nbconvert_exporter": "python",
   "pygments_lexer": "ipython3",
   "version": "3.11.4"
  }
 },
 "nbformat": 4,
 "nbformat_minor": 5
}
