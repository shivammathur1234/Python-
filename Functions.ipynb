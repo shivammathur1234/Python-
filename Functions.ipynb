{
 "cells": [
  {
   "cell_type": "code",
   "execution_count": null,
   "id": "cdbb7bb1-e0b7-4d78-aa5e-f2c8621c8f54",
   "metadata": {},
   "outputs": [],
   "source": [
    "> function \n",
    "    > def \n",
    "      > keywprd\n",
    "      > postion Argument\n",
    "          \n",
    "    > lambda(anonymous function, fat function )\n",
    "        \n",
    "          > decorator\n",
    "\n",
    "          > Generator"
   ]
  },
  {
   "cell_type": "code",
   "execution_count": 1,
   "id": "98f44b53-e525-4b75-928e-d87c82079342",
   "metadata": {},
   "outputs": [],
   "source": [
    "def hello():\n",
    "    for i in range(5):\n",
    "        print(\"hello world\")"
   ]
  },
  {
   "cell_type": "code",
   "execution_count": 17,
   "id": "4940cb6d-30a4-446c-b3e0-fceeba3abfca",
   "metadata": {},
   "outputs": [
    {
     "name": "stdout",
     "output_type": "stream",
     "text": [
      "hello world\n",
      "hello world\n",
      "hello world\n",
      "hello world\n",
      "hello world\n"
     ]
    }
   ],
   "source": [
    "hello()"
   ]
  },
  {
   "cell_type": "code",
   "execution_count": 14,
   "id": "eb006bf4-cd47-4940-9fa0-2521ea34f323",
   "metadata": {},
   "outputs": [
    {
     "name": "stdout",
     "output_type": "stream",
     "text": [
      "*\n",
      "**\n",
      "***\n",
      "****\n",
      "*****\n"
     ]
    }
   ],
   "source": [
    "for i in range(5):\n",
    "    for j in range(i+1):\n",
    "        print(\"*\",end=\"\")\n",
    "    print()\n"
   ]
  },
  {
   "cell_type": "code",
   "execution_count": 15,
   "id": "deb3982d-2fd2-4b45-a9fe-0321bd9dc703",
   "metadata": {},
   "outputs": [],
   "source": [
    "def pattern():\n",
    "    for i in range(5):\n",
    "        for j in range(i+1):\n",
    "            print(\"*\",end=\"\")\n",
    "        print()"
   ]
  },
  {
   "cell_type": "code",
   "execution_count": 16,
   "id": "ac7a05c1-f4e1-46f0-8161-8a9251d2cf4e",
   "metadata": {},
   "outputs": [
    {
     "name": "stdout",
     "output_type": "stream",
     "text": [
      "*\n",
      "**\n",
      "***\n",
      "****\n",
      "*****\n"
     ]
    }
   ],
   "source": [
    "pattern()"
   ]
  },
  {
   "cell_type": "code",
   "execution_count": 20,
   "id": "af1ca25c-fda5-464b-93b8-d50c92a23b26",
   "metadata": {},
   "outputs": [
    {
     "name": "stdout",
     "output_type": "stream",
     "text": [
      "*\n",
      "**\n",
      "***\n",
      "****\n",
      "*****\n"
     ]
    }
   ],
   "source": [
    "pattern()"
   ]
  },
  {
   "cell_type": "code",
   "execution_count": 21,
   "id": "2281ef4c-d941-4fcd-968d-6a760110ac57",
   "metadata": {},
   "outputs": [],
   "source": [
    "def intro():\n",
    "    print(\"i am shivam\")"
   ]
  },
  {
   "cell_type": "code",
   "execution_count": 23,
   "id": "8c3f513d-a55a-4b5b-857a-6a8ab2fcd09a",
   "metadata": {},
   "outputs": [
    {
     "name": "stdout",
     "output_type": "stream",
     "text": [
      "i am shivam\n"
     ]
    }
   ],
   "source": [
    "intro()"
   ]
  },
  {
   "cell_type": "code",
   "execution_count": 24,
   "id": "77801164-7c7a-4aed-8780-65ad51a85d44",
   "metadata": {},
   "outputs": [
    {
     "name": "stdout",
     "output_type": "stream",
     "text": [
      "i am shivam\n"
     ]
    }
   ],
   "source": [
    "intro()"
   ]
  },
  {
   "cell_type": "code",
   "execution_count": 25,
   "id": "bc2f96e4-4e36-4e0b-a6d4-8cc80d3c1e05",
   "metadata": {},
   "outputs": [],
   "source": [
    "def intro2(name):    # ( name )  Ths is Argumen. Argument always in  () Parentheses \n",
    "    print(\"i am {}\" .format(name))"
   ]
  },
  {
   "cell_type": "code",
   "execution_count": 27,
   "id": "0ed673fc-07b3-46b9-b4a6-4029175933b1",
   "metadata": {},
   "outputs": [
    {
     "name": "stdout",
     "output_type": "stream",
     "text": [
      "i am satender\n"
     ]
    }
   ],
   "source": [
    "intro2(\"satender\")"
   ]
  },
  {
   "cell_type": "code",
   "execution_count": 28,
   "id": "bfbf350b-c8a4-45a2-84c6-57b815905365",
   "metadata": {},
   "outputs": [
    {
     "name": "stdout",
     "output_type": "stream",
     "text": [
      "i am shivam\n"
     ]
    }
   ],
   "source": [
    "intro2(\"shivam\")"
   ]
  },
  {
   "cell_type": "code",
   "execution_count": 31,
   "id": "1bd880e4-6fa4-48cc-ab75-538c606ca14d",
   "metadata": {},
   "outputs": [],
   "source": [
    "def intro3():\n",
    "    print(\"i am shivam, my father name is parveen mathur and my mother name is nema devi \")"
   ]
  },
  {
   "cell_type": "code",
   "execution_count": 32,
   "id": "1f76e648-3a69-4588-ad92-0deafcebf6e7",
   "metadata": {},
   "outputs": [
    {
     "name": "stdout",
     "output_type": "stream",
     "text": [
      "i am shivam, my father name is parveen mathur and my mother name is nema devi \n"
     ]
    }
   ],
   "source": [
    "intro3()"
   ]
  },
  {
   "cell_type": "code",
   "execution_count": 35,
   "id": "879dbe61-e49d-4769-bc25-4c78d1ced58e",
   "metadata": {},
   "outputs": [],
   "source": [
    "def intro3(name,father_name,mother_name):\n",
    "    print(\"i am {}, my father name is {} and my mother name is {}\".format(name,father_name,mother_name))"
   ]
  },
  {
   "cell_type": "code",
   "execution_count": 39,
   "id": "052aeacc-50e2-415f-b589-c2176bb75a18",
   "metadata": {},
   "outputs": [
    {
     "name": "stdout",
     "output_type": "stream",
     "text": [
      "i am satender, my father name is shivam and my mother name is sunny leone\n"
     ]
    }
   ],
   "source": [
    "intro3(\"satender\",\"shivam\",\"sunny leone\")"
   ]
  },
  {
   "cell_type": "code",
   "execution_count": null,
   "id": "2c4b6e32-c410-4be3-a523-5e7119104b31",
   "metadata": {},
   "outputs": [],
   "source": [
    "def intro3(name,father_name,mother_name):\n",
    "    print(f\"i am {name}, my father name is {father_name} and my mother name is {mother_name}\""
   ]
  },
  {
   "cell_type": "code",
   "execution_count": 41,
   "id": "d77b7d09-3eb5-47a0-b1a7-49654727644d",
   "metadata": {},
   "outputs": [
    {
     "name": "stdout",
     "output_type": "stream",
     "text": [
      "i am satender, my father name is shivam and my mother name is sunny\n"
     ]
    }
   ],
   "source": [
    "intro3(\"satender\",\"shivam\",\"sunny\")"
   ]
  },
  {
   "cell_type": "code",
   "execution_count": 1,
   "id": "7ace3101",
   "metadata": {},
   "outputs": [],
   "source": [
    "def add (a,b):\n",
    "    print(a+b)\n"
   ]
  },
  {
   "cell_type": "code",
   "execution_count": 2,
   "id": "451a7565-3c63-4b50-b77d-c8ec5da9e103",
   "metadata": {},
   "outputs": [
    {
     "name": "stdout",
     "output_type": "stream",
     "text": [
      "30\n"
     ]
    }
   ],
   "source": [
    "add(10,20)"
   ]
  },
  {
   "cell_type": "code",
   "execution_count": 3,
   "id": "24f59ac7-3218-4566-952b-09ebc4e5cbd0",
   "metadata": {},
   "outputs": [
    {
     "name": "stdout",
     "output_type": "stream",
     "text": [
      "2335656346346464646670960916\n"
     ]
    }
   ],
   "source": [
    "add(2335656346346464646456435364,214525552)"
   ]
  },
  {
   "cell_type": "code",
   "execution_count": 4,
   "id": "4902c161-560d-4fa4-b227-515b09149239",
   "metadata": {},
   "outputs": [],
   "source": [
    "# Return"
   ]
  },
  {
   "cell_type": "code",
   "execution_count": 5,
   "id": "81a23a77-496c-4be0-a2ff-9a50cb67ef82",
   "metadata": {},
   "outputs": [],
   "source": [
    "def add (a,b):\n",
    "    return a+b\n"
   ]
  },
  {
   "cell_type": "code",
   "execution_count": 6,
   "id": "97fc8ac8-a9d3-4766-9277-184b2af30161",
   "metadata": {},
   "outputs": [],
   "source": [
    "a=add(10,20)"
   ]
  },
  {
   "cell_type": "code",
   "execution_count": 7,
   "id": "be0adb44-bc7f-47ce-8bc9-59825d0479e8",
   "metadata": {},
   "outputs": [
    {
     "data": {
      "text/plain": [
       "50"
      ]
     },
     "execution_count": 7,
     "metadata": {},
     "output_type": "execute_result"
    }
   ],
   "source": [
    "a+20"
   ]
  },
  {
   "cell_type": "code",
   "execution_count": 8,
   "id": "3f14c762-edaa-4652-91c1-28050d5065a0",
   "metadata": {},
   "outputs": [
    {
     "name": "stdout",
     "output_type": "stream",
     "text": [
      "30\n"
     ]
    }
   ],
   "source": [
    "print(a)"
   ]
  },
  {
   "cell_type": "markdown",
   "id": "d748398b-a31d-41af-8ad1-f978ee9e6b8c",
   "metadata": {},
   "source": [
    "function def \n",
    "   > Local variable\n",
    "   > Global varable\n",
    "   > Defalut Argument\n",
    "   > positional Arugemnt\n",
    "   > keyword Agrument\n",
    "   > Arbitrary keyword Argument\n",
    "   > Arbitrary positional Argument"
   ]
  },
  {
   "cell_type": "code",
   "execution_count": 12,
   "id": "2f6a71f9-cfaf-40dd-8883-4374ba56966f",
   "metadata": {},
   "outputs": [],
   "source": [
    "def rate_of_interest(principle,rate,time):\n",
    "    result=(principle*rate*time)/100\n",
    "    print(result)\n"
   ]
  },
  {
   "cell_type": "code",
   "execution_count": 13,
   "id": "d737b3b4-edd1-458b-9456-5eb69c7525d1",
   "metadata": {},
   "outputs": [
    {
     "name": "stdout",
     "output_type": "stream",
     "text": [
      "2000.0\n"
     ]
    }
   ],
   "source": [
    "rate_of_interest(10000,10,2)"
   ]
  },
  {
   "cell_type": "code",
   "execution_count": 93,
   "id": "b6f4d345-51be-4ffa-bd99-51c4871902e2",
   "metadata": {},
   "outputs": [],
   "source": [
    "def compound_interest (p,r,n,t):\n",
    "    result=p*(1+r/n)**(n*t)\n",
    "    print(result)"
   ]
  },
  {
   "cell_type": "code",
   "execution_count": 94,
   "id": "9d400ffa-2131-4526-92dd-0a46ff9516c2",
   "metadata": {},
   "outputs": [
    {
     "name": "stdout",
     "output_type": "stream",
     "text": [
      "4629.629629629628\n"
     ]
    }
   ],
   "source": [
    "compound_interest(1000,2,3,1)"
   ]
  },
  {
   "cell_type": "code",
   "execution_count": 35,
   "id": "dea59421-ed8a-49c3-a7c9-043f864277d5",
   "metadata": {},
   "outputs": [
    {
     "ename": "TypeError",
     "evalue": "'int' object is not iterable",
     "output_type": "error",
     "traceback": [
      "\u001b[1;31m---------------------------------------------------------------------------\u001b[0m",
      "\u001b[1;31mTypeError\u001b[0m                                 Traceback (most recent call last)",
      "Cell \u001b[1;32mIn[35], line 3\u001b[0m\n\u001b[0;32m      1\u001b[0m odd\u001b[38;5;241m=\u001b[39m[]\n\u001b[0;32m      2\u001b[0m even\u001b[38;5;241m=\u001b[39m[]\n\u001b[1;32m----> 3\u001b[0m \u001b[38;5;28;01mfor\u001b[39;00m i \u001b[38;5;129;01min\u001b[39;00m a:\n\u001b[0;32m      4\u001b[0m     \u001b[38;5;28;01mif\u001b[39;00m i\u001b[38;5;241m%\u001b[39m\u001b[38;5;241m2\u001b[39m\u001b[38;5;241m==\u001b[39m\u001b[38;5;241m0\u001b[39m:\n\u001b[0;32m      5\u001b[0m          even\u001b[38;5;241m.\u001b[39mappend(i)\n",
      "\u001b[1;31mTypeError\u001b[0m: 'int' object is not iterable"
     ]
    }
   ],
   "source": [
    "odd=[]\n",
    "even=[]\n",
    "for i in a:\n",
    "    if i%2==0:\n",
    "         even.append(i)\n",
    "    else:\n",
    "        odd.append(i)\n",
    "print(\"odd list: \",odd)\n",
    "print(\"even list: \",even)"
   ]
  },
  {
   "cell_type": "code",
   "execution_count": 29,
   "id": "f700d5cb-c7e9-4ab0-8a89-f0c771348b38",
   "metadata": {},
   "outputs": [],
   "source": [
    "def odd_even(a):\n",
    "    odd=[]\n",
    "    even=[]\n",
    "    for i in a:\n",
    "       if i%2==0:\n",
    "        even.append(i)\n",
    "    else:\n",
    "        odd.append(i)\n",
    "    print(\"odd list: \",odd)\n",
    "    print(\"even list: \",even)"
   ]
  },
  {
   "cell_type": "code",
   "execution_count": 32,
   "id": "921ad102-0adc-46a8-a64c-e0301b95a891",
   "metadata": {},
   "outputs": [
    {
     "name": "stdout",
     "output_type": "stream",
     "text": [
      "odd list:  [7]\n",
      "even list:  [24, 78, 74, 87744, 788, 4]\n"
     ]
    }
   ],
   "source": [
    "odd_even([24,78,74,87744,788,4,877,7,])"
   ]
  },
  {
   "cell_type": "markdown",
   "id": "a1b7b1d9-b279-474f-aa3d-bb34398034b6",
   "metadata": {},
   "source": [
    "Local variable\n",
    "\n",
    "global variable"
   ]
  },
  {
   "cell_type": "code",
   "execution_count": 40,
   "id": "7f11d08b-e0e1-4e64-9585-cb8718bdf5a3",
   "metadata": {},
   "outputs": [],
   "source": [
    "# Local variable\n",
    "\n",
    "def add():\n",
    "    a=10\n",
    "    b=20                 # this s local variable because ( a and b are inside the function thats why )\n",
    "    print(a+b)                     # thats the reason a and b is not defined \n",
    "                                        # this is also a local scope "
   ]
  },
  {
   "cell_type": "code",
   "execution_count": 37,
   "id": "a4bc9cc8-4abe-4d82-984d-93175712fc92",
   "metadata": {},
   "outputs": [
    {
     "name": "stdout",
     "output_type": "stream",
     "text": [
      "30\n"
     ]
    }
   ],
   "source": [
    "add()"
   ]
  },
  {
   "cell_type": "code",
   "execution_count": 38,
   "id": "07120216-57ae-40d2-9812-011945a83b19",
   "metadata": {},
   "outputs": [
    {
     "name": "stdout",
     "output_type": "stream",
     "text": [
      "30\n"
     ]
    }
   ],
   "source": [
    "print(a)"
   ]
  },
  {
   "cell_type": "code",
   "execution_count": 39,
   "id": "244b9499-9d94-49c9-9d83-e6118c6c9293",
   "metadata": {},
   "outputs": [
    {
     "ename": "NameError",
     "evalue": "name 'b' is not defined",
     "output_type": "error",
     "traceback": [
      "\u001b[1;31m---------------------------------------------------------------------------\u001b[0m",
      "\u001b[1;31mNameError\u001b[0m                                 Traceback (most recent call last)",
      "Cell \u001b[1;32mIn[39], line 1\u001b[0m\n\u001b[1;32m----> 1\u001b[0m \u001b[38;5;28mprint\u001b[39m(\u001b[43mb\u001b[49m)\n",
      "\u001b[1;31mNameError\u001b[0m: name 'b' is not defined"
     ]
    }
   ],
   "source": [
    "print(b)"
   ]
  },
  {
   "cell_type": "code",
   "execution_count": 41,
   "id": "248bb94c-5ff4-40cb-92b7-62fe87425b54",
   "metadata": {},
   "outputs": [],
   "source": [
    "# global variable \n",
    "\n",
    "a=100                 # when we defined the value of a and b thats the global vaiable)\n",
    "                           # this is also the global scope "
   ]
  },
  {
   "cell_type": "code",
   "execution_count": 42,
   "id": "9c79a231-1e97-4b6a-88f7-d1e85e222b12",
   "metadata": {},
   "outputs": [],
   "source": [
    "b=200"
   ]
  },
  {
   "cell_type": "code",
   "execution_count": 43,
   "id": "1656c921-5ad0-44c9-94d3-09f12a183d19",
   "metadata": {},
   "outputs": [],
   "source": [
    "def add2():\n",
    "    print(a+b)"
   ]
  },
  {
   "cell_type": "code",
   "execution_count": 44,
   "id": "b3ed204a-0db0-4ad6-8839-419ea02e4a78",
   "metadata": {},
   "outputs": [
    {
     "name": "stdout",
     "output_type": "stream",
     "text": [
      "300\n"
     ]
    }
   ],
   "source": [
    "add2()"
   ]
  },
  {
   "cell_type": "code",
   "execution_count": 64,
   "id": "9304a659-a5b0-4c6a-89fa-37b673085cb4",
   "metadata": {},
   "outputs": [],
   "source": [
    "def add3 ():\n",
    "    global l,m   # this global functions help in change into local to global ) \n",
    "    l=200\n",
    "    m=400\n",
    "    print(l*m)"
   ]
  },
  {
   "cell_type": "code",
   "execution_count": 65,
   "id": "55be6d14-850f-4533-8148-13ff3567bceb",
   "metadata": {},
   "outputs": [
    {
     "name": "stdout",
     "output_type": "stream",
     "text": [
      "80000\n"
     ]
    }
   ],
   "source": [
    "add3()"
   ]
  },
  {
   "cell_type": "code",
   "execution_count": 66,
   "id": "265bb869-8d9e-4a02-844c-8a4f69d1571b",
   "metadata": {},
   "outputs": [
    {
     "name": "stdout",
     "output_type": "stream",
     "text": [
      "200\n"
     ]
    }
   ],
   "source": [
    "print(l)"
   ]
  },
  {
   "cell_type": "code",
   "execution_count": 67,
   "id": "0f900cc1-2353-46c7-a7dc-3ca3484630c7",
   "metadata": {},
   "outputs": [
    {
     "name": "stdout",
     "output_type": "stream",
     "text": [
      "400\n"
     ]
    }
   ],
   "source": [
    "print(m)"
   ]
  },
  {
   "cell_type": "code",
   "execution_count": null,
   "id": "a0422efc-a67a-47cd-b3cb-46b27a2ce315",
   "metadata": {},
   "outputs": [],
   "source": [
    "   > Defalut Argument\n",
    "   > positional Arugemnt\n",
    "   > keyword Agrument\n",
    "   > Arbitrary keyword Argument\n",
    "   > Arbitrary positional Argument"
   ]
  },
  {
   "cell_type": "code",
   "execution_count": null,
   "id": "f0ba9727-7197-4324-9881-b3d95e069895",
   "metadata": {},
   "outputs": [],
   "source": [
    "> Defalut Argument"
   ]
  },
  {
   "cell_type": "code",
   "execution_count": 69,
   "id": "8304b254-d806-4410-8774-f293b38dbdc7",
   "metadata": {},
   "outputs": [],
   "source": [
    "def sum(a=10,b=20):\n",
    "    print(a+b)"
   ]
  },
  {
   "cell_type": "code",
   "execution_count": 70,
   "id": "76817fa1-d5d9-4a87-aa43-6094b2533733",
   "metadata": {},
   "outputs": [
    {
     "name": "stdout",
     "output_type": "stream",
     "text": [
      "30\n"
     ]
    }
   ],
   "source": [
    "sum()"
   ]
  },
  {
   "cell_type": "code",
   "execution_count": 71,
   "id": "0a6fa534-e367-4491-8e20-098a2c346906",
   "metadata": {},
   "outputs": [
    {
     "name": "stdout",
     "output_type": "stream",
     "text": [
      "300\n"
     ]
    }
   ],
   "source": [
    "sum(100,200)"
   ]
  },
  {
   "cell_type": "code",
   "execution_count": null,
   "id": "b757e578-4c81-4280-9864-43b003cd0ded",
   "metadata": {},
   "outputs": [],
   "source": [
    "> keyword Agrument"
   ]
  },
  {
   "cell_type": "code",
   "execution_count": 72,
   "id": "d6e37f69-b96d-42f0-aed5-ccd280b5c7f1",
   "metadata": {},
   "outputs": [],
   "source": [
    "def sum2(a=10,b=20):\n",
    "    print(a+b)"
   ]
  },
  {
   "cell_type": "code",
   "execution_count": 73,
   "id": "99aaaf64-0ab2-4534-b98a-6021f6aca041",
   "metadata": {},
   "outputs": [
    {
     "name": "stdout",
     "output_type": "stream",
     "text": [
      "3000\n"
     ]
    }
   ],
   "source": [
    "sum2(b=2000,a=1000)"
   ]
  },
  {
   "cell_type": "code",
   "execution_count": null,
   "id": "6733ed14-7e81-4b07-86b3-0ce67c8cda83",
   "metadata": {},
   "outputs": [],
   "source": [
    "> positional Arugemnt"
   ]
  },
  {
   "cell_type": "code",
   "execution_count": 74,
   "id": "3889c04b-dcc7-46c3-ab6b-9d3a0a28973d",
   "metadata": {},
   "outputs": [],
   "source": [
    "def sum3(a,b):\n",
    "    print(a+b)"
   ]
  },
  {
   "cell_type": "code",
   "execution_count": 75,
   "id": "1540daee-da81-4097-ba46-be6d735b5a24",
   "metadata": {},
   "outputs": [
    {
     "name": "stdout",
     "output_type": "stream",
     "text": [
      "30\n"
     ]
    }
   ],
   "source": [
    "sum3(10,20)"
   ]
  },
  {
   "cell_type": "code",
   "execution_count": 76,
   "id": "f6b9acb2-88b0-4139-8db6-8796cabe8a75",
   "metadata": {},
   "outputs": [],
   "source": [
    "def sum4(a,b):\n",
    "    print(a+b)"
   ]
  },
  {
   "cell_type": "code",
   "execution_count": 77,
   "id": "8027e38f-3cd6-43fb-89f6-b8334582ae6a",
   "metadata": {},
   "outputs": [
    {
     "name": "stdout",
     "output_type": "stream",
     "text": [
      "300\n"
     ]
    }
   ],
   "source": [
    "sum4(b=200,a=100)"
   ]
  },
  {
   "cell_type": "code",
   "execution_count": null,
   "id": "fd75faa5-5a61-44e2-aa3f-10cb48ae65ed",
   "metadata": {},
   "outputs": [],
   "source": [
    "> Arbitrary positional Argument"
   ]
  },
  {
   "cell_type": "code",
   "execution_count": 78,
   "id": "c8713438-b83a-4f59-959b-1599f30e1375",
   "metadata": {},
   "outputs": [],
   "source": [
    "a=10,20,30"
   ]
  },
  {
   "cell_type": "code",
   "execution_count": 79,
   "id": "03e40775-d574-4da0-906d-f8b62fe85f98",
   "metadata": {},
   "outputs": [
    {
     "name": "stdout",
     "output_type": "stream",
     "text": [
      "(10, 20, 30)\n"
     ]
    }
   ],
   "source": [
    "print(a)"
   ]
  },
  {
   "cell_type": "code",
   "execution_count": 87,
   "id": "f7e50c4c-74ff-412b-a2e0-daee696a7e67",
   "metadata": {},
   "outputs": [],
   "source": [
    "def add5(*n):\n",
    "    print(n)\n",
    "    k=0\n",
    "    for i in n:\n",
    "        k=k+i\n",
    "    print(k)"
   ]
  },
  {
   "cell_type": "code",
   "execution_count": 89,
   "id": "79f5a182-7059-41aa-b382-1e58a8d0d614",
   "metadata": {},
   "outputs": [
    {
     "name": "stdout",
     "output_type": "stream",
     "text": [
      "(1, 2, 4, 1, 335, 15, 13, 411, 56, 15, 13, 1)\n",
      "867\n"
     ]
    }
   ],
   "source": [
    "add5(1,2,4,1,335,15,13,411,56,15,13,1)"
   ]
  },
  {
   "cell_type": "code",
   "execution_count": null,
   "id": "ed825ce3-c116-48ac-9cfe-f5ae30ffb2ba",
   "metadata": {},
   "outputs": [],
   "source": [
    "> Arbitrary keyword Argument"
   ]
  },
  {
   "cell_type": "code",
   "execution_count": 2,
   "id": "12e392f5-1f83-4334-9142-879dfd7abd7d",
   "metadata": {},
   "outputs": [],
   "source": [
    "def add6 (**n):\n",
    "    print(n)"
   ]
  },
  {
   "cell_type": "code",
   "execution_count": 3,
   "id": "b8be83c2-2c6d-41f8-a235-e43e58d94d6b",
   "metadata": {},
   "outputs": [
    {
     "name": "stdout",
     "output_type": "stream",
     "text": [
      "{'name': 'shivam', 'age': 20, 'wight': 55}\n"
     ]
    }
   ],
   "source": [
    "add6(name=\"shivam\",age=20,wight=55)"
   ]
  },
  {
   "cell_type": "code",
   "execution_count": 8,
   "id": "f1a3008f-5ed6-4c1e-837f-aa54fa9c332f",
   "metadata": {},
   "outputs": [],
   "source": [
    "# Return\n",
    "def sum(a,b):\n",
    "    print(a+b)\n"
   ]
  },
  {
   "cell_type": "code",
   "execution_count": 9,
   "id": "f205f563-c77e-4dbc-b4f6-f4fffb2c8e2a",
   "metadata": {},
   "outputs": [
    {
     "name": "stdout",
     "output_type": "stream",
     "text": [
      "30\n",
      "hello world\n"
     ]
    }
   ],
   "source": [
    "z=sum(10,20)           # in this code z has nothing thats why z show (none)\n",
    "print(\"hello world\")            # because of that reason we use (Return function )\n"
   ]
  },
  {
   "cell_type": "code",
   "execution_count": 10,
   "id": "ea9e6871-5523-4f47-a623-9fc6d2f1c9db",
   "metadata": {},
   "outputs": [
    {
     "name": "stdout",
     "output_type": "stream",
     "text": [
      "None\n"
     ]
    }
   ],
   "source": [
    "print(z)"
   ]
  },
  {
   "cell_type": "code",
   "execution_count": 11,
   "id": "b3146cf9-59a9-4503-8a26-969b6420abc4",
   "metadata": {},
   "outputs": [
    {
     "name": "stdout",
     "output_type": "stream",
     "text": [
      "hello world\n",
      "None\n"
     ]
    }
   ],
   "source": [
    "print(print(\"hello world\"))"
   ]
  },
  {
   "cell_type": "code",
   "execution_count": 13,
   "id": "83ec3c39-73ba-441e-8e87-9e208de67f73",
   "metadata": {},
   "outputs": [],
   "source": [
    "def sum(a,b):\n",
    "    return (a+b)\n"
   ]
  },
  {
   "cell_type": "code",
   "execution_count": 14,
   "id": "162bf447-b7c0-411d-9161-d4c0b06cb771",
   "metadata": {},
   "outputs": [
    {
     "data": {
      "text/plain": [
       "30"
      ]
     },
     "execution_count": 14,
     "metadata": {},
     "output_type": "execute_result"
    }
   ],
   "source": [
    "sum(10,20)"
   ]
  },
  {
   "cell_type": "code",
   "execution_count": 16,
   "id": "2281e19b-ea45-4cd4-90fb-89c980c2ac01",
   "metadata": {},
   "outputs": [],
   "source": [
    "def sum(a,b):\n",
    "    return (a+b)\n"
   ]
  },
  {
   "cell_type": "code",
   "execution_count": 17,
   "id": "17a03736-be07-4fd5-9f4f-a6007a09f01c",
   "metadata": {},
   "outputs": [
    {
     "name": "stdout",
     "output_type": "stream",
     "text": [
      "30\n",
      "hello world\n"
     ]
    }
   ],
   "source": [
    "z=sum(10,20)\n",
    "print(z)\n",
    "print(\"hello world\")\n"
   ]
  },
  {
   "cell_type": "code",
   "execution_count": 18,
   "id": "206a97d8-2bcb-4e20-abc0-4e04fed357aa",
   "metadata": {},
   "outputs": [
    {
     "data": {
      "text/plain": [
       "50"
      ]
     },
     "execution_count": 18,
     "metadata": {},
     "output_type": "execute_result"
    }
   ],
   "source": [
    "z+20"
   ]
  },
  {
   "cell_type": "code",
   "execution_count": 19,
   "id": "c10cb079-8807-436c-987b-fb49be1fa658",
   "metadata": {},
   "outputs": [],
   "source": [
    "def number (a,b):\n",
    "    return a\n",
    "    return b"
   ]
  },
  {
   "cell_type": "code",
   "execution_count": 20,
   "id": "3ed01bda-9ce6-4038-866b-0cdff7d3f4f6",
   "metadata": {},
   "outputs": [
    {
     "data": {
      "text/plain": [
       "10"
      ]
     },
     "execution_count": 20,
     "metadata": {},
     "output_type": "execute_result"
    }
   ],
   "source": [
    "number(10,20)"
   ]
  },
  {
   "cell_type": "code",
   "execution_count": 23,
   "id": "2ccaa4ac-1942-47f1-b66a-115990a78df6",
   "metadata": {},
   "outputs": [
    {
     "name": "stdin",
     "output_type": "stream",
     "text": [
      "enter the 1st number: 10\n",
      "enter the 2nd number: 20\n",
      "choose the valid operation out of +,-,*,/: +\n"
     ]
    },
    {
     "name": "stdout",
     "output_type": "stream",
     "text": [
      "30\n"
     ]
    }
   ],
   "source": [
    "num1=eval(input(\"enter the 1st number:\"))\n",
    "num2=eval(input(\"enter the 2nd number:\"))\n",
    "option=input(\"choose the valid operation out of +,-,*,/:\")\n",
    "if option==\"+\":\n",
    "    print(num1+ num2)\n",
    "elif option==\"-\":\n",
    "    print(num1-num2)\n",
    "elif option==\"*\":\n",
    "    prrint(num1*num2)\n",
    "elif option==\"/\":\n",
    "    print(num1/num2)\n",
    "else:\n",
    "    print(\"choose the valid operation\")\n",
    "             \n",
    "          \n",
    "          "
   ]
  },
  {
   "cell_type": "code",
   "execution_count": 25,
   "id": "6cd4b16c-e1d4-4cb2-ac1f-e29a99b35bb2",
   "metadata": {},
   "outputs": [],
   "source": [
    "def calculator():\n",
    "    num1=eval(input(\"enter the 1st number:\"))\n",
    "    num2=eval(input(\"enter the 2nd number:\"))\n",
    "    option=input(\"choose the valid operation out of +,-,*,/:\")\n",
    "    if option==\"+\":\n",
    "        print(num1+ num2)\n",
    "    elif option==\"-\":\n",
    "        print(num1-num2)\n",
    "    elif option==\"*\":\n",
    "        prrint(num1*num2)\n",
    "    elif option==\"/\":\n",
    "        print(num1/num2)\n",
    "    else:\n",
    "        print(\"choose the valid operation\")\n",
    "                 \n",
    "              \n",
    "          "
   ]
  },
  {
   "cell_type": "code",
   "execution_count": 26,
   "id": "bf316d15-3dd5-402c-9824-5e4958b087bf",
   "metadata": {},
   "outputs": [
    {
     "name": "stdin",
     "output_type": "stream",
     "text": [
      "enter the 1st number: 10\n",
      "enter the 2nd number: 20\n",
      "choose the valid operation out of +,-,*,/: +\n"
     ]
    },
    {
     "name": "stdout",
     "output_type": "stream",
     "text": [
      "30\n"
     ]
    }
   ],
   "source": [
    "calculator()"
   ]
  },
  {
   "cell_type": "code",
   "execution_count": 27,
   "id": "2f1096ff-dc38-4618-aa7d-c8b5ab1b6861",
   "metadata": {},
   "outputs": [],
   "source": [
    "def calculator():\n",
    "    num1=eval(input(\"enter the 1st number:\"))\n",
    "    num2=eval(input(\"enter the 2nd number:\"))\n",
    "    option=input(\"choose the valid operation out of +,-,*,/:\")\n",
    "    if option==\"+\":\n",
    "        result=(num1+ num2)\n",
    "    elif option==\"-\":\n",
    "        result=(num1-num2)\n",
    "    elif option==\"*\":\n",
    "        result=(num1*num2)\n",
    "    elif option==\"/\":\n",
    "        result=(num1/num2)\n",
    "    else:\n",
    "        result=(\"choose the valid operation\")\n",
    "    return result\n",
    "                 \n",
    "              \n",
    "          "
   ]
  },
  {
   "cell_type": "code",
   "execution_count": 28,
   "id": "8a25fc8c-16a5-4c42-b6d9-6454c653520b",
   "metadata": {},
   "outputs": [
    {
     "name": "stdin",
     "output_type": "stream",
     "text": [
      "enter the 1st number: 1\n",
      "enter the 2nd number: 2\n",
      "choose the valid operation out of +,-,*,/: +\n"
     ]
    },
    {
     "data": {
      "text/plain": [
       "3"
      ]
     },
     "execution_count": 28,
     "metadata": {},
     "output_type": "execute_result"
    }
   ],
   "source": [
    "calculator()"
   ]
  },
  {
   "cell_type": "code",
   "execution_count": 30,
   "id": "057d8c0c-8c1c-4f70-a7aa-9250ccd25a1a",
   "metadata": {},
   "outputs": [
    {
     "name": "stdin",
     "output_type": "stream",
     "text": [
      "enter the 1st number: 1\n",
      "enter the 2nd number: 2\n",
      "choose the valid operation out of +,-,*,/: +\n"
     ]
    }
   ],
   "source": [
    "a=calculator()  # it not show the result because calculator assined in the a variable"
   ]
  },
  {
   "cell_type": "code",
   "execution_count": 31,
   "id": "e8614503-601d-41bf-9ebe-748108924e36",
   "metadata": {},
   "outputs": [
    {
     "data": {
      "text/plain": [
       "3"
      ]
     },
     "execution_count": 31,
     "metadata": {},
     "output_type": "execute_result"
    }
   ],
   "source": [
    "a\n"
   ]
  },
  {
   "cell_type": "code",
   "execution_count": 32,
   "id": "730727e2-33f9-4db0-93a6-ce0a63b10425",
   "metadata": {},
   "outputs": [
    {
     "name": "stdin",
     "output_type": "stream",
     "text": [
      "enter the 1st number: 100\n",
      "enter the 2nd number: 300\n",
      "choose the valid operation out of +,-,*,/: *\n"
     ]
    }
   ],
   "source": [
    "b=calculator()\n"
   ]
  },
  {
   "cell_type": "code",
   "execution_count": 33,
   "id": "28675581-4130-48df-b30b-bba070c71ed3",
   "metadata": {},
   "outputs": [
    {
     "data": {
      "text/plain": [
       "30000"
      ]
     },
     "execution_count": 33,
     "metadata": {},
     "output_type": "execute_result"
    }
   ],
   "source": [
    "b"
   ]
  },
  {
   "cell_type": "code",
   "execution_count": 34,
   "id": "a10e9e63-3357-498b-adaa-91e57af18e4b",
   "metadata": {},
   "outputs": [
    {
     "data": {
      "text/plain": [
       "-29997"
      ]
     },
     "execution_count": 34,
     "metadata": {},
     "output_type": "execute_result"
    }
   ],
   "source": [
    "a-b"
   ]
  },
  {
   "cell_type": "code",
   "execution_count": 35,
   "id": "862e9f88-352d-4ded-9be0-1658d65d9ca8",
   "metadata": {},
   "outputs": [
    {
     "name": "stdin",
     "output_type": "stream",
     "text": [
      "enter the 1st number: 1\n",
      "enter the 2nd number: 2\n",
      "choose the valid operation out of +,-,*,/: +\n",
      "enter the 1st number: 100\n",
      "enter the 2nd number: 300\n",
      "choose the valid operation out of +,-,*,/: *\n"
     ]
    },
    {
     "data": {
      "text/plain": [
       "-29997"
      ]
     },
     "execution_count": 35,
     "metadata": {},
     "output_type": "execute_result"
    }
   ],
   "source": [
    "calculator()-calculator() # this is shorter method"
   ]
  },
  {
   "cell_type": "code",
   "execution_count": 36,
   "id": "1f0d0e8c-bd73-410f-91b4-380f512af784",
   "metadata": {},
   "outputs": [],
   "source": [
    "def travel():              \n",
    "    print(\"i am going to mathura\")"
   ]
  },
  {
   "cell_type": "code",
   "execution_count": 37,
   "id": "f38af79a-d23a-46fd-950e-fd1a29888175",
   "metadata": {},
   "outputs": [
    {
     "name": "stdout",
     "output_type": "stream",
     "text": [
      "i will go by the car\n",
      "i am going to mathura\n"
     ]
    }
   ],
   "source": [
    "print(\"i will go by the car\")\n",
    "travel()"
   ]
  },
  {
   "cell_type": "code",
   "execution_count": 38,
   "id": "88e87d4f-0bf9-4eba-9087-120502726a86",
   "metadata": {},
   "outputs": [],
   "source": [
    "def car(arg):               # This is nested function concept\n",
    "    def inner ():\n",
    "        print(\"i will go by the car\")\n",
    "        arg()\n",
    "    return inner\n",
    "    "
   ]
  },
  {
   "cell_type": "code",
   "execution_count": 42,
   "id": "90feaf99-9d91-4fd2-b78c-f48a90f7670b",
   "metadata": {},
   "outputs": [
    {
     "data": {
      "text/plain": [
       "<function __main__.car.<locals>.inner()>"
      ]
     },
     "execution_count": 42,
     "metadata": {},
     "output_type": "execute_result"
    }
   ],
   "source": [
    "car(travel)"
   ]
  },
  {
   "cell_type": "code",
   "execution_count": 45,
   "id": "ed3427ed-c781-49c4-94b9-642e637a7841",
   "metadata": {},
   "outputs": [],
   "source": [
    "x=car(travel)"
   ]
  },
  {
   "cell_type": "code",
   "execution_count": 47,
   "id": "9558cf73-26f9-47e8-b8c9-c84750102d14",
   "metadata": {},
   "outputs": [
    {
     "name": "stdout",
     "output_type": "stream",
     "text": [
      "i will go by the car\n",
      "i am going to mathura\n"
     ]
    }
   ],
   "source": [
    "x()"
   ]
  },
  {
   "cell_type": "code",
   "execution_count": 48,
   "id": "692c147a-5957-4894-b734-ce60afd26af7",
   "metadata": {},
   "outputs": [],
   "source": [
    "# Decorator"
   ]
  },
  {
   "cell_type": "code",
   "execution_count": 50,
   "id": "4f7624f0-417b-44fe-b87f-17f0222d374a",
   "metadata": {},
   "outputs": [],
   "source": [
    "def shivam(arg):\n",
    "    def inner ():\n",
    "        print(\"i am sorry satender\")\n",
    "        arg()\n",
    "    return inner ()"
   ]
  },
  {
   "cell_type": "code",
   "execution_count": 52,
   "id": "3ecba9a4-cccb-413b-88ab-9745c0fedc9b",
   "metadata": {},
   "outputs": [
    {
     "name": "stdout",
     "output_type": "stream",
     "text": [
      "i am sorry satender\n",
      "satender will not talk to shivam\n"
     ]
    }
   ],
   "source": [
    "@shivam\n",
    "def satender():\n",
    "    print(\"satender will not talk to shivam\")"
   ]
  },
  {
   "cell_type": "code",
   "execution_count": 1,
   "id": "f87ba210-730a-4b84-ac2c-d0cf4c8e3b21",
   "metadata": {},
   "outputs": [],
   "source": [
    "# Generator\n"
   ]
  },
  {
   "cell_type": "code",
   "execution_count": 2,
   "id": "ec051abc-a15d-4bd5-91af-e6299afa4627",
   "metadata": {},
   "outputs": [],
   "source": [
    "def count():\n",
    "    yield 1\n",
    "    yield 2\n",
    "    yield 3\n",
    "    "
   ]
  },
  {
   "cell_type": "code",
   "execution_count": 3,
   "id": "1e8a5270-a4d2-4eae-9a29-9e99ae51107d",
   "metadata": {},
   "outputs": [],
   "source": [
    "a=count()"
   ]
  },
  {
   "cell_type": "code",
   "execution_count": 4,
   "id": "1832218e-0563-4a32-bd8f-d141a7901e55",
   "metadata": {},
   "outputs": [
    {
     "data": {
      "text/plain": [
       "1"
      ]
     },
     "execution_count": 4,
     "metadata": {},
     "output_type": "execute_result"
    }
   ],
   "source": [
    "next(a)"
   ]
  },
  {
   "cell_type": "code",
   "execution_count": 9,
   "id": "d84f35dc-19e6-4640-9890-7068c42a7138",
   "metadata": {},
   "outputs": [
    {
     "data": {
      "text/plain": [
       "3"
      ]
     },
     "execution_count": 9,
     "metadata": {},
     "output_type": "execute_result"
    }
   ],
   "source": [
    "next(a)"
   ]
  },
  {
   "cell_type": "code",
   "execution_count": 11,
   "id": "b0fc4441-8659-45d8-902c-c20c13b5a85b",
   "metadata": {},
   "outputs": [],
   "source": [
    "# Lambda = its a anonymous function ( it store in the variable) \n",
    "\n",
    "# it does not have any name \n",
    "\n",
    "# A lambda function always contain a single statement or expression \n"
   ]
  },
  {
   "cell_type": "code",
   "execution_count": 12,
   "id": "d4ea72b1-e3c1-4212-bae1-9ab825e38324",
   "metadata": {},
   "outputs": [],
   "source": [
    "def add(a,b):\n",
    "    print(a+b)"
   ]
  },
  {
   "cell_type": "code",
   "execution_count": 13,
   "id": "129e7f89-82f1-467a-9f2a-c2366191a24c",
   "metadata": {},
   "outputs": [
    {
     "data": {
      "text/plain": [
       "<function __main__.<lambda>(a, b)>"
      ]
     },
     "execution_count": 13,
     "metadata": {},
     "output_type": "execute_result"
    }
   ],
   "source": [
    "lambda a,b: print(a+b)"
   ]
  },
  {
   "cell_type": "code",
   "execution_count": 14,
   "id": "4be6d9da-ada4-4372-86fe-19c78b15b1ef",
   "metadata": {},
   "outputs": [],
   "source": [
    "a=lambda a,b: print(a+b)"
   ]
  },
  {
   "cell_type": "code",
   "execution_count": 15,
   "id": "b1306b78-99f7-4043-ad75-22091326620c",
   "metadata": {},
   "outputs": [
    {
     "name": "stdout",
     "output_type": "stream",
     "text": [
      "30\n"
     ]
    }
   ],
   "source": [
    "a(10,20)"
   ]
  },
  {
   "cell_type": "code",
   "execution_count": null,
   "id": "b3ef6369-d2b2-4385-bd79-41380eb45b92",
   "metadata": {},
   "outputs": [],
   "source": []
  }
 ],
 "metadata": {
  "kernelspec": {
   "display_name": "Python 3 (ipykernel)",
   "language": "python",
   "name": "python3"
  },
  "language_info": {
   "codemirror_mode": {
    "name": "ipython",
    "version": 3
   },
   "file_extension": ".py",
   "mimetype": "text/x-python",
   "name": "python",
   "nbconvert_exporter": "python",
   "pygments_lexer": "ipython3",
   "version": "3.11.4"
  },
  "widgets": {
   "application/vnd.jupyter.widget-state+json": {
    "state": {},
    "version_major": 2,
    "version_minor": 0
   }
  }
 },
 "nbformat": 4,
 "nbformat_minor": 5
}
