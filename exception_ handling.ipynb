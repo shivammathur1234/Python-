{
 "cells": [
  {
   "cell_type": "code",
   "execution_count": 1,
   "id": "8fc38d40-405d-4456-bea6-9df1e93102ce",
   "metadata": {},
   "outputs": [],
   "source": [
    "# compile time error \n",
    "# run time error"
   ]
  },
  {
   "cell_type": "code",
   "execution_count": null,
   "id": "10f35a6c-e3f9-49c4-8bdd-1875f61557c0",
   "metadata": {},
   "outputs": [],
   "source": [
    "a=input(\"enter a number:\")\n",
    "b=int(a)\n",
    "print(b)         # this is called run time error \n"
   ]
  },
  {
   "cell_type": "code",
   "execution_count": null,
   "id": "5424c8ca-ac0c-45f2-987a-e28f95314e46",
   "metadata": {},
   "outputs": [],
   "source": [
    "for i in range (10):\n",
    "    a=eval(input(\"enter a number:\"))\n",
    "    b=eval(input(\"enter a 2nd number:\"))\n",
    "    print(a/b)\n",
    "    "
   ]
  },
  {
   "cell_type": "code",
   "execution_count": 1,
   "id": "c1cee93a-c8ba-412d-9d92-c93e9abe352c",
   "metadata": {},
   "outputs": [
    {
     "name": "stdin",
     "output_type": "stream",
     "text": [
      "enter a number: 10\n",
      "enter a 2nd number: 20\n"
     ]
    },
    {
     "name": "stdout",
     "output_type": "stream",
     "text": [
      "0.5\n",
      "hello world\n"
     ]
    }
   ],
   "source": [
    "a=eval(input(\"enter a number:\"))\n",
    "b=eval(input(\"enter a 2nd number:\"))\n",
    "print(a/b)\n",
    "print(\"hello world\") "
   ]
  },
  {
   "cell_type": "code",
   "execution_count": 2,
   "id": "f83d4fdd-5955-4e77-bbbc-e0eaf4c0b8f0",
   "metadata": {},
   "outputs": [
    {
     "name": "stdin",
     "output_type": "stream",
     "text": [
      "enter a number: 10\n",
      "enter a 2nd number: 0\n"
     ]
    },
    {
     "ename": "ZeroDivisionError",
     "evalue": "division by zero",
     "output_type": "error",
     "traceback": [
      "\u001b[1;31m---------------------------------------------------------------------------\u001b[0m",
      "\u001b[1;31mZeroDivisionError\u001b[0m                         Traceback (most recent call last)",
      "Cell \u001b[1;32mIn[2], line 3\u001b[0m\n\u001b[0;32m      1\u001b[0m a\u001b[38;5;241m=\u001b[39m\u001b[38;5;28meval\u001b[39m(\u001b[38;5;28minput\u001b[39m(\u001b[38;5;124m\"\u001b[39m\u001b[38;5;124menter a number:\u001b[39m\u001b[38;5;124m\"\u001b[39m))\n\u001b[0;32m      2\u001b[0m b\u001b[38;5;241m=\u001b[39m\u001b[38;5;28meval\u001b[39m(\u001b[38;5;28minput\u001b[39m(\u001b[38;5;124m\"\u001b[39m\u001b[38;5;124menter a 2nd number:\u001b[39m\u001b[38;5;124m\"\u001b[39m))\n\u001b[1;32m----> 3\u001b[0m \u001b[38;5;28mprint\u001b[39m(\u001b[43ma\u001b[49m\u001b[38;5;241;43m/\u001b[39;49m\u001b[43mb\u001b[49m)\n\u001b[0;32m      4\u001b[0m \u001b[38;5;28mprint\u001b[39m(\u001b[38;5;124m\"\u001b[39m\u001b[38;5;124mhello world\u001b[39m\u001b[38;5;124m\"\u001b[39m) \n",
      "\u001b[1;31mZeroDivisionError\u001b[0m: division by zero"
     ]
    }
   ],
   "source": [
    "a=eval(input(\"enter a number:\"))\n",
    "b=eval(input(\"enter a 2nd number:\"))\n",
    "print(a/b)\n",
    "print(\"hello world\") "
   ]
  },
  {
   "cell_type": "code",
   "execution_count": 3,
   "id": "93e7a627-7482-4d58-a723-3348edd5b038",
   "metadata": {},
   "outputs": [],
   "source": [
    "# After appling exception handling\n"
   ]
  },
  {
   "cell_type": "code",
   "execution_count": 4,
   "id": "45d30018-6268-4a09-80d2-745cda4daefd",
   "metadata": {},
   "outputs": [
    {
     "name": "stdin",
     "output_type": "stream",
     "text": [
      "enter a number: 10\n",
      "enter a 2nd number: 0\n"
     ]
    },
    {
     "name": "stdout",
     "output_type": "stream",
     "text": [
      "not in service\n",
      "hello world\n"
     ]
    }
   ],
   "source": [
    "try:\n",
    "    a=eval(input(\"enter a number:\"))\n",
    "    b=eval(input(\"enter a 2nd number:\"))\n",
    "    print(a/b)\n",
    "except:\n",
    "    print(\"not in service\")\n",
    "    \n",
    "print(\"hello world\") "
   ]
  },
  {
   "cell_type": "code",
   "execution_count": 5,
   "id": "46c08249-8aba-42e6-87fd-140a8c8ac14b",
   "metadata": {},
   "outputs": [
    {
     "name": "stdin",
     "output_type": "stream",
     "text": [
      "enter a number: 10\n",
      "enter a 2nd number: 20\n"
     ]
    },
    {
     "name": "stdout",
     "output_type": "stream",
     "text": [
      "0.5\n",
      "hello world\n"
     ]
    }
   ],
   "source": [
    "try:\n",
    "    a=eval(input(\"enter a number:\"))\n",
    "    b=eval(input(\"enter a 2nd number:\"))\n",
    "    print(a/b)\n",
    "except:\n",
    "    print(\"not in service\")\n",
    "    \n",
    "print(\"hello world\") "
   ]
  },
  {
   "cell_type": "code",
   "execution_count": 1,
   "id": "d78b56af-af2b-40a6-8740-6469abd46209",
   "metadata": {},
   "outputs": [
    {
     "name": "stdin",
     "output_type": "stream",
     "text": [
      "enter a number: 41\n",
      "enter a 2nd number: \n"
     ]
    },
    {
     "name": "stdout",
     "output_type": "stream",
     "text": [
      "not in service\n",
      "hello world\n"
     ]
    },
    {
     "name": "stdin",
     "output_type": "stream",
     "text": [
      "enter a number: 31\n",
      "enter a 2nd number: 46\n"
     ]
    },
    {
     "name": "stdout",
     "output_type": "stream",
     "text": [
      "0.6739130434782609\n",
      "hello world\n"
     ]
    },
    {
     "name": "stdin",
     "output_type": "stream",
     "text": [
      "enter a number: 3146\n",
      "enter a 2nd number: 64\n"
     ]
    },
    {
     "name": "stdout",
     "output_type": "stream",
     "text": [
      "49.15625\n",
      "hello world\n"
     ]
    },
    {
     "name": "stdin",
     "output_type": "stream",
     "text": [
      "enter a number: 13\n",
      "enter a 2nd number: 464\n"
     ]
    },
    {
     "name": "stdout",
     "output_type": "stream",
     "text": [
      "0.028017241379310345\n",
      "hello world\n"
     ]
    },
    {
     "name": "stdin",
     "output_type": "stream",
     "text": [
      "enter a number: 134\n",
      "enter a 2nd number: 0\n"
     ]
    },
    {
     "name": "stdout",
     "output_type": "stream",
     "text": [
      "not in service\n",
      "hello world\n"
     ]
    },
    {
     "name": "stdin",
     "output_type": "stream",
     "text": [
      "enter a number: 56\n",
      "enter a 2nd number: 0\n"
     ]
    },
    {
     "name": "stdout",
     "output_type": "stream",
     "text": [
      "not in service\n",
      "hello world\n"
     ]
    },
    {
     "name": "stdin",
     "output_type": "stream",
     "text": [
      "enter a number: 12\n",
      "enter a 2nd number: 22\n"
     ]
    },
    {
     "name": "stdout",
     "output_type": "stream",
     "text": [
      "0.5454545454545454\n",
      "hello world\n"
     ]
    },
    {
     "name": "stdin",
     "output_type": "stream",
     "text": [
      "enter a number: 23\n",
      "enter a 2nd number: 0\n"
     ]
    },
    {
     "name": "stdout",
     "output_type": "stream",
     "text": [
      "not in service\n",
      "hello world\n"
     ]
    },
    {
     "name": "stdin",
     "output_type": "stream",
     "text": [
      "enter a number: 23\n",
      "enter a 2nd number: 32 \n"
     ]
    },
    {
     "name": "stdout",
     "output_type": "stream",
     "text": [
      "0.71875\n",
      "hello world\n"
     ]
    },
    {
     "name": "stdin",
     "output_type": "stream",
     "text": [
      "enter a number: 10\n",
      "enter a 2nd number: 10\n"
     ]
    },
    {
     "name": "stdout",
     "output_type": "stream",
     "text": [
      "1.0\n",
      "hello world\n"
     ]
    }
   ],
   "source": [
    "for i in range (10):\n",
    "    try:\n",
    "        a=eval(input(\"enter a number:\"))\n",
    "        b=eval(input(\"enter a 2nd number:\"))\n",
    "        print(a/b)\n",
    "    except:\n",
    "        print(\"not in service\")\n",
    "        \n",
    "    print(\"hello world\") "
   ]
  },
  {
   "cell_type": "code",
   "execution_count": 1,
   "id": "7a0877a3-5dc8-4d4a-b05c-c5ae05ebbb29",
   "metadata": {},
   "outputs": [
    {
     "name": "stdin",
     "output_type": "stream",
     "text": [
      "enter a number: 10\n",
      "enter a 2nd number: 20\n"
     ]
    },
    {
     "name": "stdout",
     "output_type": "stream",
     "text": [
      "0.5\n",
      "hello world\n"
     ]
    }
   ],
   "source": [
    "try:\n",
    "    a=eval(input(\"enter a number:\"))\n",
    "    b=eval(input(\"enter a 2nd number:\"))\n",
    "    print(a/b)\n",
    "except:\n",
    "    print(\"not in service\")\n",
    "\n",
    "finally:\n",
    "    print(\"hello world\")"
   ]
  },
  {
   "cell_type": "code",
   "execution_count": 2,
   "id": "ab5cffff-bbd6-4ce3-b30f-715d740cf473",
   "metadata": {},
   "outputs": [
    {
     "name": "stdin",
     "output_type": "stream",
     "text": [
      "enter a number: 10\n",
      "enter a 2nd number: 0\n"
     ]
    },
    {
     "name": "stdout",
     "output_type": "stream",
     "text": [
      "a number is not is divisible by 0\n",
      "hello world\n"
     ]
    }
   ],
   "source": [
    "try:\n",
    "    a=eval(input(\"enter a number:\"))\n",
    "    b=eval(input(\"enter a 2nd number:\"))\n",
    "    if a==b:\n",
    "        raise Exception (\"a is equal to b hence giving an error \")\n",
    "    print(a/b)\n",
    "except ZeroDivisionError:\n",
    "    print(\"a number is not is divisible by 0\")\n",
    "\n",
    "finally:\n",
    "    print(\"hello world\")"
   ]
  },
  {
   "cell_type": "code",
   "execution_count": 3,
   "id": "784e8070-c8f9-45a7-b9db-2b5bdd56ba34",
   "metadata": {},
   "outputs": [
    {
     "name": "stdin",
     "output_type": "stream",
     "text": [
      "enter a number: 10\n",
      "enter a 2nd number: 10\n"
     ]
    },
    {
     "name": "stdout",
     "output_type": "stream",
     "text": [
      "hello world\n"
     ]
    },
    {
     "ename": "Exception",
     "evalue": "a is equal to b hence giving an error ",
     "output_type": "error",
     "traceback": [
      "\u001b[1;31m---------------------------------------------------------------------------\u001b[0m",
      "\u001b[1;31mException\u001b[0m                                 Traceback (most recent call last)",
      "Cell \u001b[1;32mIn[3], line 5\u001b[0m\n\u001b[0;32m      3\u001b[0m     b\u001b[38;5;241m=\u001b[39m\u001b[38;5;28meval\u001b[39m(\u001b[38;5;28minput\u001b[39m(\u001b[38;5;124m\"\u001b[39m\u001b[38;5;124menter a 2nd number:\u001b[39m\u001b[38;5;124m\"\u001b[39m))\n\u001b[0;32m      4\u001b[0m     \u001b[38;5;28;01mif\u001b[39;00m a\u001b[38;5;241m==\u001b[39mb:\n\u001b[1;32m----> 5\u001b[0m         \u001b[38;5;28;01mraise\u001b[39;00m \u001b[38;5;167;01mException\u001b[39;00m (\u001b[38;5;124m\"\u001b[39m\u001b[38;5;124ma is equal to b hence giving an error \u001b[39m\u001b[38;5;124m\"\u001b[39m)\n\u001b[0;32m      6\u001b[0m     \u001b[38;5;28mprint\u001b[39m(a\u001b[38;5;241m/\u001b[39mb)\n\u001b[0;32m      7\u001b[0m \u001b[38;5;28;01mexcept\u001b[39;00m \u001b[38;5;167;01mZeroDivisionError\u001b[39;00m:\n",
      "\u001b[1;31mException\u001b[0m: a is equal to b hence giving an error "
     ]
    }
   ],
   "source": [
    "try:\n",
    "    a=eval(input(\"enter a number:\"))\n",
    "    b=eval(input(\"enter a 2nd number:\"))\n",
    "    if a==b:\n",
    "        raise Exception (\"a is equal to b hence giving an error \")\n",
    "    print(a/b)\n",
    "except ZeroDivisionError:\n",
    "    print(\"a number is not is divisible by 0\")\n",
    "\n",
    "finally:\n",
    "    print(\"hello world\")            # a=b thats why its show an error "
   ]
  },
  {
   "cell_type": "code",
   "execution_count": 4,
   "id": "643dab67-abe4-4beb-9737-7705c517b3b5",
   "metadata": {},
   "outputs": [
    {
     "name": "stdin",
     "output_type": "stream",
     "text": [
      "enter a number: shivam\n"
     ]
    },
    {
     "name": "stdout",
     "output_type": "stream",
     "text": [
      "hello world\n"
     ]
    },
    {
     "ename": "NameError",
     "evalue": "name 'shivam' is not defined",
     "output_type": "error",
     "traceback": [
      "\u001b[1;31m---------------------------------------------------------------------------\u001b[0m",
      "\u001b[1;31mNameError\u001b[0m                                 Traceback (most recent call last)",
      "Cell \u001b[1;32mIn[4], line 2\u001b[0m\n\u001b[0;32m      1\u001b[0m \u001b[38;5;28;01mtry\u001b[39;00m:\n\u001b[1;32m----> 2\u001b[0m     a\u001b[38;5;241m=\u001b[39m\u001b[38;5;28;43meval\u001b[39;49m\u001b[43m(\u001b[49m\u001b[38;5;28;43minput\u001b[39;49m\u001b[43m(\u001b[49m\u001b[38;5;124;43m\"\u001b[39;49m\u001b[38;5;124;43menter a number:\u001b[39;49m\u001b[38;5;124;43m\"\u001b[39;49m\u001b[43m)\u001b[49m\u001b[43m)\u001b[49m\n\u001b[0;32m      3\u001b[0m     b\u001b[38;5;241m=\u001b[39m\u001b[38;5;28meval\u001b[39m(\u001b[38;5;28minput\u001b[39m(\u001b[38;5;124m\"\u001b[39m\u001b[38;5;124menter a 2nd number:\u001b[39m\u001b[38;5;124m\"\u001b[39m))\n\u001b[0;32m      4\u001b[0m     \u001b[38;5;28;01mif\u001b[39;00m a\u001b[38;5;241m==\u001b[39mb:\n",
      "File \u001b[1;32m<string>:1\u001b[0m\n",
      "\u001b[1;31mNameError\u001b[0m: name 'shivam' is not defined"
     ]
    }
   ],
   "source": [
    "try:\n",
    "    a=eval(input(\"enter a number:\"))\n",
    "    b=eval(input(\"enter a 2nd number:\"))\n",
    "    if a==b:\n",
    "        raise Exception (\"a is equal to b hence giving an error \")\n",
    "    print(a/b)\n",
    "except ZeroDivisionError:\n",
    "    print(\"a number is not is divisible by 0\")\n",
    "\n",
    "finally:\n",
    "    print(\"hello world\")            # this name error"
   ]
  },
  {
   "cell_type": "code",
   "execution_count": 8,
   "id": "a6bb2495-ba5f-4883-8c8f-7e2614439026",
   "metadata": {},
   "outputs": [
    {
     "name": "stdin",
     "output_type": "stream",
     "text": [
      "enter a number: shivam\n"
     ]
    },
    {
     "name": "stdout",
     "output_type": "stream",
     "text": [
      "Alphabet is not convertable into int and float\n",
      "hello world\n"
     ]
    }
   ],
   "source": [
    "try:\n",
    "    a=eval(input(\"enter a number:\"))\n",
    "    b=eval(input(\"enter a 2nd number:\"))\n",
    "    if a==b:\n",
    "        raise Exception (\"a is equal to b hence giving an error \")\n",
    "    print(a/b)\n",
    "except ZeroDivisionError:\n",
    "    print(\"a number is not is divisible by 0\")\n",
    "except NameError:\n",
    "    print(\"Alphabet is not convertable into int and float\")\n",
    "finally:\n",
    "    print(\"hello world\")           # this is the solution of the name error "
   ]
  },
  {
   "cell_type": "code",
   "execution_count": 10,
   "id": "180301a4-23d8-4809-b2b6-9adca8ed370a",
   "metadata": {},
   "outputs": [
    {
     "name": "stdin",
     "output_type": "stream",
     "text": [
      "enter a number: 10\n",
      "enter a 2nd number: 10.02\n"
     ]
    },
    {
     "name": "stdout",
     "output_type": "stream",
     "text": [
      "i will pray to god \n",
      "hello world\n"
     ]
    }
   ],
   "source": [
    "try:\n",
    "    a=eval(input(\"enter a number:\"))\n",
    "    b=int(input(\"enter a 2nd number:\"))\n",
    "    if a==b:\n",
    "        raise Exception (\"a is equal to b hence giving an error \")\n",
    "    print(a/b)\n",
    "except ZeroDivisionError:\n",
    "    print(\"a number is not is divisible by 0\")\n",
    "except NameError:\n",
    "    print(\"Alphabet is not convertable into int and float\")\n",
    "except Exception:\n",
    "    print(\"i will pray to god \")    # this is will run in the any error \n",
    "finally:\n",
    "    print(\"hello world\")          "
   ]
  },
  {
   "cell_type": "code",
   "execution_count": 14,
   "id": "1138ac80-67be-4d26-9525-d9b484d1cfef",
   "metadata": {},
   "outputs": [
    {
     "name": "stdin",
     "output_type": "stream",
     "text": [
      "Enter your user id: shivammmathur\n"
     ]
    },
    {
     "name": "stdout",
     "output_type": "stream",
     "text": [
      "i will call the cop\n",
      "bye\n"
     ]
    }
   ],
   "source": [
    "try:\n",
    "    superuser=\"shivammathur\"\n",
    "    a=input(\"Enter your user id:\")\n",
    "except:\n",
    "    print(\"there is some problem in code \")\n",
    "else:\n",
    "    print(\"i will call the cop\")\n",
    "finally:\n",
    "    print(\"bye\")"
   ]
  },
  {
   "cell_type": "code",
   "execution_count": 12,
   "id": "79ef894b-a901-467c-8b36-4085baed3a53",
   "metadata": {},
   "outputs": [
    {
     "name": "stdin",
     "output_type": "stream",
     "text": [
      "enter a number: shivam\n"
     ]
    },
    {
     "name": "stdout",
     "output_type": "stream",
     "text": [
      "name 'shivam' is not defined\n",
      "hello world\n"
     ]
    }
   ],
   "source": [
    "try:\n",
    "    a=eval(input(\"enter a number:\"))\n",
    "    b=int(input(\"enter a 2nd number:\"))\n",
    "    print(a/b)\n",
    "except ZeroDivisionError as e :           # as e is used to show the correct error \n",
    "    print(e)\n",
    "except NameError as e :\n",
    "    print(e)\n",
    "except Exception:\n",
    "    print(\"i will pray to god \")   \n",
    "finally:\n",
    "    print(\"hello world\")          "
   ]
  },
  {
   "cell_type": "code",
   "execution_count": null,
   "id": "0f8dffd2-0273-48fe-9a9a-536b6211632e",
   "metadata": {},
   "outputs": [],
   "source": []
  }
 ],
 "metadata": {
  "kernelspec": {
   "display_name": "Python 3 (ipykernel)",
   "language": "python",
   "name": "python3"
  },
  "language_info": {
   "codemirror_mode": {
    "name": "ipython",
    "version": 3
   },
   "file_extension": ".py",
   "mimetype": "text/x-python",
   "name": "python",
   "nbconvert_exporter": "python",
   "pygments_lexer": "ipython3",
   "version": "3.11.4"
  },
  "widgets": {
   "application/vnd.jupyter.widget-state+json": {
    "state": {},
    "version_major": 2,
    "version_minor": 0
   }
  }
 },
 "nbformat": 4,
 "nbformat_minor": 5
}
