{
 "cells": [
  {
   "cell_type": "code",
   "execution_count": 45,
   "id": "ecc61244-7415-4907-84be-d4f0f2b5aaa6",
   "metadata": {},
   "outputs": [],
   "source": [
    "# There are twontypes of loop\n",
    "\n",
    "   # 1st   for loop\n",
    "   # 2nd   while loop"
   ]
  },
  {
   "cell_type": "markdown",
   "id": "48e89734-e902-4f71-a478-0fd75ed100b8",
   "metadata": {},
   "source": [
    "loop\n",
    "   > for loop \n",
    "      > nested for loop\n",
    "      > single for loop with pattern  \n",
    "      > nested for loop with pattern \n",
    "      > list comprehension\n",
    "      > set comprehension\n",
    "      > Dictionary comprehension\n",
    "      > tuple comprehension (generator)\n",
    "      > Frozenset comprehension\n",
    "      > break\n",
    "      > continue\n",
    "      > pass   \n",
    "\n",
    "   > while Loop \n",
    "\n",
    "      > simple while loop\n",
    "      > nested while loop \n",
    "      > simple while loop with pattern \n",
    "      > nested while loop with pattern\n",
    "      > break\n",
    "      > continue\n",
    "      > pass \n",
    "      "
   ]
  },
  {
   "cell_type": "code",
   "execution_count": 37,
   "id": "e28f7a2d-f93e-4c77-97bd-401547d5b3fe",
   "metadata": {},
   "outputs": [
    {
     "name": "stdout",
     "output_type": "stream",
     "text": [
      "0\n",
      "1\n",
      "2\n",
      "3\n",
      "4\n",
      "5\n",
      "6\n",
      "7\n",
      "8\n",
      "9\n"
     ]
    }
   ],
   "source": [
    "for i in range (10):\n",
    "    print(i)"
   ]
  },
  {
   "cell_type": "code",
   "execution_count": 4,
   "id": "5e54f7af-4747-4110-bfe6-b12bb7706849",
   "metadata": {},
   "outputs": [
    {
     "name": "stdout",
     "output_type": "stream",
     "text": [
      "hello world\n",
      "hello world\n",
      "hello world\n",
      "hello world\n",
      "hello world\n",
      "hello world\n",
      "hello world\n",
      "hello world\n",
      "hello world\n"
     ]
    }
   ],
   "source": [
    "i=1\n",
    "while i<10:\n",
    "    print(\"hello world\")\n",
    "    i=i+1"
   ]
  },
  {
   "cell_type": "code",
   "execution_count": 1,
   "id": "2ede9b16-d51b-4b83-bb38-537d303de055",
   "metadata": {},
   "outputs": [],
   "source": [
    "# While loop"
   ]
  },
  {
   "cell_type": "code",
   "execution_count": 2,
   "id": "66f3c221-5b44-45a8-9bb5-2afcf8cad3a7",
   "metadata": {},
   "outputs": [
    {
     "name": "stdout",
     "output_type": "stream",
     "text": [
      "1\n",
      "1 hello world\n",
      "1 hello world\n",
      "1 hello world\n",
      "1 hello world\n",
      "2\n",
      "2 hello world\n",
      "2 hello world\n",
      "2 hello world\n",
      "2 hello world\n",
      "3\n",
      "3 hello world\n",
      "3 hello world\n",
      "3 hello world\n",
      "3 hello world\n",
      "4\n",
      "4 hello world\n",
      "4 hello world\n",
      "4 hello world\n",
      "4 hello world\n"
     ]
    }
   ],
   "source": [
    "i=1\n",
    "while i<5:\n",
    "    print(i)\n",
    "    j=1\n",
    "    while j<5:\n",
    "        print(i,\"hello world\")\n",
    "        j=j+1\n",
    "    i+=1\n",
    "    "
   ]
  },
  {
   "cell_type": "code",
   "execution_count": 6,
   "id": "6b6560da-7bd4-4fa8-aa9f-406bb1aca1b6",
   "metadata": {},
   "outputs": [
    {
     "name": "stdout",
     "output_type": "stream",
     "text": [
      "1 hello world\n",
      "1 hello world\n",
      "1 hello world\n",
      "1 hello world\n",
      "2 hello world\n",
      "2 hello world\n",
      "2 hello world\n",
      "2 hello world\n",
      "3 hello world\n",
      "3 hello world\n",
      "3 hello world\n",
      "3 hello world\n",
      "4 hello world\n",
      "4 hello world\n",
      "4 hello world\n",
      "4 hello world\n"
     ]
    }
   ],
   "source": [
    "i=1\n",
    "while i<5:\n",
    "    \n",
    "    j=1\n",
    "    while j<5:\n",
    "        print(i,\"hello world\")\n",
    "        j=j+1\n",
    "    i+=1\n",
    "    "
   ]
  },
  {
   "cell_type": "code",
   "execution_count": 7,
   "id": "531ff6f2-ac52-4f95-a1f3-72f93f510f38",
   "metadata": {},
   "outputs": [
    {
     "name": "stdout",
     "output_type": "stream",
     "text": [
      "*\n",
      "*\n",
      "*\n",
      "*\n"
     ]
    }
   ],
   "source": [
    "i=1\n",
    "while i<5:\n",
    "    print(\"*\")\n",
    "    i=i+1"
   ]
  },
  {
   "cell_type": "code",
   "execution_count": 8,
   "id": "6ff4a998-42c1-4dd0-bbc5-81227627c83b",
   "metadata": {},
   "outputs": [
    {
     "name": "stdout",
     "output_type": "stream",
     "text": [
      "*\n",
      "**\n",
      "***\n",
      "****\n",
      "*****\n"
     ]
    }
   ],
   "source": [
    " print(\"*\")\n",
    " print(\"**\")\n",
    " print(\"***\")\n",
    " print(\"****\")\n",
    " print(\"*****\")"
   ]
  },
  {
   "cell_type": "code",
   "execution_count": 4,
   "id": "11ceea44-b0f7-45d2-895b-f2394a6ca7fa",
   "metadata": {},
   "outputs": [
    {
     "name": "stdout",
     "output_type": "stream",
     "text": [
      "*\n",
      "**\n",
      "***\n",
      "****\n",
      "*****\n"
     ]
    }
   ],
   "source": [
    "i=1\n",
    "while i<6:\n",
    "    print(\"*\"*i)\n",
    "    i+=1"
   ]
  },
  {
   "cell_type": "code",
   "execution_count": 5,
   "id": "5695cade-3c00-456e-ae98-b9b7b9fcbf91",
   "metadata": {},
   "outputs": [
    {
     "name": "stdout",
     "output_type": "stream",
     "text": [
      "*****\n",
      "****\n",
      "***\n",
      "**\n",
      "*\n"
     ]
    }
   ],
   "source": [
    "i=5\n",
    "while i>0:\n",
    "    print(\"*\"*i)\n",
    "    i=i-1\n"
   ]
  },
  {
   "cell_type": "code",
   "execution_count": 6,
   "id": "b839d714-f184-4f4d-8aa2-30bb791de7d1",
   "metadata": {},
   "outputs": [
    {
     "name": "stdout",
     "output_type": "stream",
     "text": [
      "*****\n",
      "****\n",
      "***\n",
      "**\n",
      "*\n"
     ]
    }
   ],
   "source": [
    "i=1\n",
    "while i<6:\n",
    "    print(\"*\"*(6-i))\n",
    "    i=i+1\n"
   ]
  },
  {
   "cell_type": "code",
   "execution_count": 7,
   "id": "d5387f16-4280-439f-aca8-9dc043c9427e",
   "metadata": {},
   "outputs": [
    {
     "name": "stdout",
     "output_type": "stream",
     "text": [
      "    *\n",
      "   ***\n",
      "  *****\n",
      " *******\n"
     ]
    }
   ],
   "source": [
    "i=1\n",
    "while i<5:\n",
    "    print(\" \"*(5-i)+\"*\"*(2*i-1))\n",
    "    i=i+1"
   ]
  },
  {
   "cell_type": "code",
   "execution_count": null,
   "id": "aa67500e-331c-486d-a78a-52765dba6072",
   "metadata": {},
   "outputs": [],
   "source": [
    "i=1\n",
    "while i<=9:\n",
    "    if i<=5:\n",
    "        print(\" \"*(i-1)+\"*\"*(2*(6-i)-1))\n",
    "    else:\n",
    "        print(\" \"*(9-i)+\"*\"*((2*i)-9))\n",
    "        i=i+1"
   ]
  },
  {
   "cell_type": "code",
   "execution_count": 1,
   "id": "e50b8cbe-b107-4a7a-bebb-04f3ca890104",
   "metadata": {},
   "outputs": [
    {
     "name": "stdout",
     "output_type": "stream",
     "text": [
      "*****\n",
      "****\n",
      "***\n",
      "**\n",
      "*\n"
     ]
    }
   ],
   "source": [
    "i=1\n",
    "while i<6:\n",
    "    print(\"*\"*(6-i))\n",
    "    i=i+1"
   ]
  },
  {
   "cell_type": "code",
   "execution_count": 2,
   "id": "66cc5901-3de1-4fb0-ab17-305fee4d1b41",
   "metadata": {},
   "outputs": [
    {
     "name": "stdout",
     "output_type": "stream",
     "text": [
      "* * * * * \n",
      " * * * * \n",
      "  * * * \n",
      "   * * \n",
      "    * \n",
      "   * * \n",
      "  * * * \n",
      " * * * * \n",
      "* * * * * \n"
     ]
    }
   ],
   "source": [
    "j=1\n",
    "for i in range(0,9):\n",
    "    if i<5:\n",
    "        print(\" \"*i+\"* \"*(5-i))\n",
    "    else:\n",
    "        print(\" \"*(8-i)+\"* \"*(i-3))\n"
   ]
  },
  {
   "cell_type": "code",
   "execution_count": 14,
   "id": "5b5bee52-9063-48f8-bf65-c7f4706a182b",
   "metadata": {},
   "outputs": [],
   "source": [
    "\n",
    "\\# pattern using nested loop"
   ]
  },
  {
   "cell_type": "code",
   "execution_count": 28,
   "id": "e3390b27-5598-4abf-8f19-b0866d40809d",
   "metadata": {},
   "outputs": [
    {
     "name": "stdout",
     "output_type": "stream",
     "text": [
      "*\n",
      "*\n",
      "*\n",
      "*\n",
      "*\n"
     ]
    }
   ],
   "source": [
    "i=1\n",
    "for i in range(5):\n",
    "    for j in range(1):\n",
    "        print(\"*\",end=\"\")\n",
    "        print()\n"
   ]
  },
  {
   "cell_type": "code",
   "execution_count": 29,
   "id": "1d3d1a9d-041e-457d-ad06-f1aa90b60ce3",
   "metadata": {},
   "outputs": [
    {
     "name": "stdout",
     "output_type": "stream",
     "text": [
      "*\n",
      "*\n",
      "*\n",
      "*\n",
      "*\n"
     ]
    }
   ],
   "source": [
    "for i in range(5):       # this is vertically\n",
    "    print(\"*\")"
   ]
  },
  {
   "cell_type": "code",
   "execution_count": 33,
   "id": "75989871-30eb-4548-a0f8-115a5343e12a",
   "metadata": {},
   "outputs": [
    {
     "name": "stdout",
     "output_type": "stream",
     "text": [
      "* * * * * "
     ]
    }
   ],
   "source": [
    "for i in range(5):      # this is horizontally\n",
    "    print(\"*\",end=\" \")"
   ]
  },
  {
   "cell_type": "raw",
   "id": "0bc64eca-727e-4214-95c6-bad0c67ad306",
   "metadata": {},
   "source": [
    "      > list comprehension\n",
    "      > set comprehension\n",
    "      > Dictionary comprehension\n",
    "      > tuple comprehension (generator)"
   ]
  },
  {
   "cell_type": "code",
   "execution_count": null,
   "id": "8c840ef8-bc4c-4d69-8bb6-c9e2fddd7994",
   "metadata": {},
   "outputs": [],
   "source": [
    "# list comprehension"
   ]
  },
  {
   "cell_type": "code",
   "execution_count": 49,
   "id": "c685dd6b-8ee5-4c48-b82a-f1d2887b492d",
   "metadata": {},
   "outputs": [
    {
     "name": "stdout",
     "output_type": "stream",
     "text": [
      "[0]\n",
      "[0, 1]\n",
      "[0, 1, 2]\n",
      "[0, 1, 2, 3]\n",
      "[0, 1, 2, 3, 4]\n",
      "[0, 1, 2, 3, 4, 5]\n",
      "[0, 1, 2, 3, 4, 5, 6]\n",
      "[0, 1, 2, 3, 4, 5, 6, 7]\n",
      "[0, 1, 2, 3, 4, 5, 6, 7, 8]\n",
      "[0, 1, 2, 3, 4, 5, 6, 7, 8, 9]\n"
     ]
    }
   ],
   "source": [
    "a=[]\n",
    "for i in range(10):\n",
    "    a.append(i)\n",
    "    print(a)\n"
   ]
  },
  {
   "cell_type": "code",
   "execution_count": 46,
   "id": "f7a83bac-3e41-4a28-8fee-cd81f80288a5",
   "metadata": {},
   "outputs": [
    {
     "name": "stdout",
     "output_type": "stream",
     "text": [
      "[0, 1, 2, 3, 4, 5, 6, 7, 8, 9]\n"
     ]
    }
   ],
   "source": [
    "a=[]\n",
    "for i in range(10):\n",
    "    a.append(i)\n",
    "print(a)\n"
   ]
  },
  {
   "cell_type": "code",
   "execution_count": 51,
   "id": "205f20d2-9728-4081-86bd-1cc790b36121",
   "metadata": {},
   "outputs": [
    {
     "name": "stdout",
     "output_type": "stream",
     "text": [
      "[0, 1, 2, 3, 4, 5, 6, 7, 8, 9]\n"
     ]
    }
   ],
   "source": [
    "b=[i for i in range(10)]\n",
    "print(b)"
   ]
  },
  {
   "cell_type": "code",
   "execution_count": null,
   "id": "7fda7055-1af9-4b4f-b128-fa2f0af4d796",
   "metadata": {},
   "outputs": [],
   "source": [
    "# set comprehension"
   ]
  },
  {
   "cell_type": "code",
   "execution_count": 52,
   "id": "20e34d94-2927-4d30-9418-54832746d840",
   "metadata": {},
   "outputs": [
    {
     "name": "stdout",
     "output_type": "stream",
     "text": [
      "{0, 1, 2, 3, 4, 5, 6, 7, 8, 9}\n"
     ]
    }
   ],
   "source": [
    "a=set()\n",
    "for i in range(10):\n",
    "    a.add(i)\n",
    "print(a)\n"
   ]
  },
  {
   "cell_type": "code",
   "execution_count": 53,
   "id": "97e5769e-cd4a-4009-a561-4c80da9dd9a6",
   "metadata": {},
   "outputs": [
    {
     "name": "stdout",
     "output_type": "stream",
     "text": [
      "{0, 1, 2, 3, 4, 5, 6, 7, 8, 9}\n"
     ]
    }
   ],
   "source": [
    "b={ i for i in range(10)}\n",
    "print(b)\n",
    "   "
   ]
  },
  {
   "cell_type": "code",
   "execution_count": 61,
   "id": "81531cd1-ceb8-444f-a7b0-5fb96d193b53",
   "metadata": {},
   "outputs": [
    {
     "name": "stdout",
     "output_type": "stream",
     "text": [
      "[1, 2, 3, 4]\n",
      "['rahul', 'mohan', 'sachin', 'tarun']\n"
     ]
    }
   ],
   "source": [
    "a=[1,2,3,4]\n",
    "b=[\"rahul\",\"mohan\",\"sachin\",\"tarun\"]\n",
    "for i in a,b:\n",
    "    print(i)\n",
    " "
   ]
  },
  {
   "cell_type": "code",
   "execution_count": 64,
   "id": "9a518447-6309-43bd-9589-cc0a782b2c81",
   "metadata": {},
   "outputs": [
    {
     "name": "stdout",
     "output_type": "stream",
     "text": [
      "1 rahul\n",
      "2 mohan\n",
      "3 sachin\n",
      "4 tarun\n"
     ]
    }
   ],
   "source": [
    "a=[1,2,3,4]\n",
    "b=[\"rahul\",\"mohan\",\"sachin\",\"tarun\"]\n",
    "for i,j in zip(a,b):\n",
    "    print(i,j)\n",
    " "
   ]
  },
  {
   "cell_type": "code",
   "execution_count": 65,
   "id": "e40c8e97-c077-4c8a-bff8-cbd62ac5826d",
   "metadata": {},
   "outputs": [],
   "source": [
    "c={}\n",
    "a=[1,2,3,4]\n",
    "b=[\"rahul\",\"mohan\",\"sachin\",\"tarun\"]\n",
    "for i,j in zip(a,b):\n",
    "    c.update({i:j})\n",
    " "
   ]
  },
  {
   "cell_type": "code",
   "execution_count": 66,
   "id": "efb72d4c-aedb-4a30-8eba-943175ad5dd8",
   "metadata": {},
   "outputs": [
    {
     "name": "stdout",
     "output_type": "stream",
     "text": [
      "{1: 'rahul', 2: 'mohan', 3: 'sachin', 4: 'tarun'}\n"
     ]
    }
   ],
   "source": [
    "print(c)"
   ]
  },
  {
   "cell_type": "code",
   "execution_count": 67,
   "id": "46e8c1a4-aad3-45f8-8f2f-2e6ccbed7bcc",
   "metadata": {},
   "outputs": [],
   "source": [
    "# Dictionary comprehension"
   ]
  },
  {
   "cell_type": "code",
   "execution_count": 68,
   "id": "dffc9ee2-5513-4bc1-849f-d834aed2c094",
   "metadata": {},
   "outputs": [],
   "source": [
    "c={i:j for i,j in zip(a,b)}"
   ]
  },
  {
   "cell_type": "code",
   "execution_count": 69,
   "id": "1aaaec53-e524-4252-a0f9-23d6666ddaaa",
   "metadata": {},
   "outputs": [
    {
     "name": "stdout",
     "output_type": "stream",
     "text": [
      "{1: 'rahul', 2: 'mohan', 3: 'sachin', 4: 'tarun'}\n"
     ]
    }
   ],
   "source": [
    "print(c)"
   ]
  },
  {
   "cell_type": "code",
   "execution_count": 70,
   "id": "5b38a9e8-6eea-40ae-a56b-9c21d2fa87f6",
   "metadata": {},
   "outputs": [],
   "source": [
    "d={i:j for i,j in zip([1,2,3,4],[\"rahul\",\"mohan\",\"sachin\",\"tarun\"])}   # short hand"
   ]
  },
  {
   "cell_type": "code",
   "execution_count": 71,
   "id": "18e797b1-1d76-400f-96d1-923ea81cbb8a",
   "metadata": {},
   "outputs": [
    {
     "name": "stdout",
     "output_type": "stream",
     "text": [
      "{1: 'rahul', 2: 'mohan', 3: 'sachin', 4: 'tarun'}\n"
     ]
    }
   ],
   "source": [
    "print(d)"
   ]
  },
  {
   "cell_type": "code",
   "execution_count": null,
   "id": "847859d6-01c3-4263-9e0b-14abd6666150",
   "metadata": {},
   "outputs": [],
   "source": [
    " # Tuple comprehension (generator)"
   ]
  },
  {
   "cell_type": "code",
   "execution_count": 72,
   "id": "863fdcc8-35ca-41cc-a9a6-97b6160d6e00",
   "metadata": {},
   "outputs": [],
   "source": [
    "a=()"
   ]
  },
  {
   "cell_type": "code",
   "execution_count": 73,
   "id": "53cba81a-6801-4239-a7fc-2be18ddd5bd4",
   "metadata": {},
   "outputs": [
    {
     "name": "stdout",
     "output_type": "stream",
     "text": [
      "() <class 'tuple'>\n"
     ]
    }
   ],
   "source": [
    "print(a,type(a))"
   ]
  },
  {
   "cell_type": "code",
   "execution_count": 74,
   "id": "ec3e2ea4-22aa-4c3a-b27b-40be23e03efa",
   "metadata": {},
   "outputs": [],
   "source": [
    "b=(1,2,3)"
   ]
  },
  {
   "cell_type": "code",
   "execution_count": 75,
   "id": "383329dc-c7d5-4ec4-81c1-ff19d6ce6371",
   "metadata": {},
   "outputs": [],
   "source": [
    "b=b+(1,2,3,4)"
   ]
  },
  {
   "cell_type": "code",
   "execution_count": 76,
   "id": "a7d7d6cb-e939-45d4-8941-4b2e50d8db7b",
   "metadata": {},
   "outputs": [
    {
     "name": "stdout",
     "output_type": "stream",
     "text": [
      "(1, 2, 3, 1, 2, 3, 4)\n"
     ]
    }
   ],
   "source": [
    "print(b)"
   ]
  },
  {
   "cell_type": "code",
   "execution_count": 77,
   "id": "8138dd69-e56c-4ff2-b142-56889b1e39f3",
   "metadata": {},
   "outputs": [
    {
     "name": "stdout",
     "output_type": "stream",
     "text": [
      "(0,)\n",
      "(0, 1)\n",
      "(0, 1, 2)\n",
      "(0, 1, 2, 3)\n",
      "(0, 1, 2, 3, 4)\n",
      "(0, 1, 2, 3, 4, 5)\n",
      "(0, 1, 2, 3, 4, 5, 6)\n",
      "(0, 1, 2, 3, 4, 5, 6, 7)\n",
      "(0, 1, 2, 3, 4, 5, 6, 7, 8)\n",
      "(0, 1, 2, 3, 4, 5, 6, 7, 8, 9)\n"
     ]
    }
   ],
   "source": [
    "a=()\n",
    "for i in range(10):\n",
    "    a=a+(i,)\n",
    "    print(a)\n"
   ]
  },
  {
   "cell_type": "code",
   "execution_count": 78,
   "id": "f436a4c0-b93d-4035-bb94-544b3862b0f4",
   "metadata": {},
   "outputs": [
    {
     "name": "stdout",
     "output_type": "stream",
     "text": [
      "(0, 1, 2, 3, 4, 5, 6, 7, 8, 9)\n"
     ]
    }
   ],
   "source": [
    "a=()\n",
    "for i in range(10):\n",
    "    a=a+(i,)\n",
    "print(a)\n"
   ]
  },
  {
   "cell_type": "code",
   "execution_count": 79,
   "id": "9895c857-2726-480a-b2aa-2ad21e352911",
   "metadata": {},
   "outputs": [
    {
     "name": "stdout",
     "output_type": "stream",
     "text": [
      "(0,) 2716588425856\n",
      "(0, 1) 2716587897600\n",
      "(0, 1, 2) 2716584418240\n",
      "(0, 1, 2, 3) 2716581057440\n",
      "(0, 1, 2, 3, 4) 2716581057200\n",
      "(0, 1, 2, 3, 4, 5) 2716583221792\n",
      "(0, 1, 2, 3, 4, 5, 6) 2716583221984\n",
      "(0, 1, 2, 3, 4, 5, 6, 7) 2716579676864\n",
      "(0, 1, 2, 3, 4, 5, 6, 7, 8) 2716579677376\n",
      "(0, 1, 2, 3, 4, 5, 6, 7, 8, 9) 2716579680704\n"
     ]
    }
   ],
   "source": [
    "a=()\n",
    "for i in range(10):\n",
    "    a=a+(i,)\n",
    "    print(a,id(a))           # id is change in every number\n"
   ]
  },
  {
   "cell_type": "code",
   "execution_count": 81,
   "id": "2aeac201-f25e-4c8f-bda0-7f9839febd7d",
   "metadata": {},
   "outputs": [
    {
     "name": "stdout",
     "output_type": "stream",
     "text": [
      "<generator object <genexpr> at 0x00000278811A8110>\n"
     ]
    }
   ],
   "source": [
    "v=( i for i in range(10))\n",
    "print(v)                       # generator make it object "
   ]
  },
  {
   "cell_type": "code",
   "execution_count": 82,
   "id": "379cc9a8-b2b5-46d6-98d5-40431d698555",
   "metadata": {},
   "outputs": [
    {
     "data": {
      "text/plain": [
       "0"
      ]
     },
     "execution_count": 82,
     "metadata": {},
     "output_type": "execute_result"
    }
   ],
   "source": [
    "next(v)"
   ]
  },
  {
   "cell_type": "code",
   "execution_count": 83,
   "id": "c32c39c5-7e50-4455-8b67-6e467bf2a18b",
   "metadata": {},
   "outputs": [
    {
     "data": {
      "text/plain": [
       "1"
      ]
     },
     "execution_count": 83,
     "metadata": {},
     "output_type": "execute_result"
    }
   ],
   "source": [
    "next(v)"
   ]
  },
  {
   "cell_type": "code",
   "execution_count": 86,
   "id": "f1312a7c-38fd-4efa-a9c3-4ee9cbc1803d",
   "metadata": {},
   "outputs": [
    {
     "data": {
      "text/plain": [
       "4"
      ]
     },
     "execution_count": 86,
     "metadata": {},
     "output_type": "execute_result"
    }
   ],
   "source": [
    "v.__next__()   # method that show us the next value "
   ]
  },
  {
   "cell_type": "code",
   "execution_count": 87,
   "id": "bfc10898-706b-4d25-8f76-c7b3c1efb564",
   "metadata": {},
   "outputs": [],
   "source": [
    "# Frozenset comprehension"
   ]
  },
  {
   "cell_type": "code",
   "execution_count": 89,
   "id": "1fab8ef4-f0f5-4517-a69a-7c08109d49c8",
   "metadata": {},
   "outputs": [
    {
     "name": "stdout",
     "output_type": "stream",
     "text": [
      "frozenset({0})\n",
      "frozenset({0, 1})\n",
      "frozenset({0, 1, 2})\n",
      "frozenset({0, 1, 2, 3})\n",
      "frozenset({0, 1, 2, 3, 4})\n",
      "frozenset({0, 1, 2, 3, 4, 5})\n",
      "frozenset({0, 1, 2, 3, 4, 5, 6})\n",
      "frozenset({0, 1, 2, 3, 4, 5, 6, 7})\n",
      "frozenset({0, 1, 2, 3, 4, 5, 6, 7, 8})\n",
      "frozenset({0, 1, 2, 3, 4, 5, 6, 7, 8, 9})\n"
     ]
    }
   ],
   "source": [
    "a=frozenset()\n",
    "for i in range(10):\n",
    "    a=a.union({i})\n",
    "    print(a)\n"
   ]
  },
  {
   "cell_type": "code",
   "execution_count": 90,
   "id": "89c3f9e3-a0aa-4009-8780-2b6c35674179",
   "metadata": {},
   "outputs": [
    {
     "name": "stdout",
     "output_type": "stream",
     "text": [
      "frozenset({0, 1, 2, 3, 4, 5, 6, 7, 8, 9})\n"
     ]
    }
   ],
   "source": [
    "a=frozenset()\n",
    "for i in range(10):\n",
    "    a=a.union({i})\n",
    "print(a)\n"
   ]
  },
  {
   "cell_type": "code",
   "execution_count": 92,
   "id": "07e17034-0cb2-4f70-bc79-afb4b6339bfe",
   "metadata": {},
   "outputs": [
    {
     "data": {
      "text/plain": [
       "frozenset({0, 1, 2, 3, 4, 5, 6, 7, 8, 9})"
      ]
     },
     "execution_count": 92,
     "metadata": {},
     "output_type": "execute_result"
    }
   ],
   "source": [
    "frozenset({ i for i in range(10)})"
   ]
  },
  {
   "cell_type": "raw",
   "id": "3f0f0667-294c-403e-ac18-d23329d3a00c",
   "metadata": {},
   "source": [
    "      > break\n",
    "      > continue\n",
    "      > pass   "
   ]
  },
  {
   "cell_type": "code",
   "execution_count": 94,
   "id": "48c9497c-1efc-4bdd-874b-b80bd96b6aab",
   "metadata": {},
   "outputs": [],
   "source": [
    "# continue\n",
    "\n",
    "#  Always inside the loop"
   ]
  },
  {
   "cell_type": "code",
   "execution_count": 95,
   "id": "9b4f0543-2408-483e-867d-04a316b64225",
   "metadata": {},
   "outputs": [
    {
     "name": "stdout",
     "output_type": "stream",
     "text": [
      "0 hello world\n",
      "1 hello world\n",
      "2 hello world\n",
      "3 hello world\n",
      "4 hello world\n"
     ]
    }
   ],
   "source": [
    "for i in range(5):\n",
    "    print(i,\"hello world\")\n"
   ]
  },
  {
   "cell_type": "code",
   "execution_count": 100,
   "id": "c43abf96-587c-418a-8ee4-568a09877bdd",
   "metadata": {},
   "outputs": [
    {
     "name": "stdout",
     "output_type": "stream",
     "text": [
      "0 hello world\n",
      "1 hello world\n",
      "3 hello world\n",
      "4 hello world\n"
     ]
    }
   ],
   "source": [
    "for i in range(5):\n",
    "    if i==2:                # 2 is not in ths function\n",
    "        continue             # continue is not run  the function  \n",
    "    print(i,\"hello world\")\n",
    "    \n"
   ]
  },
  {
   "cell_type": "code",
   "execution_count": 104,
   "id": "87fc5089-cacc-4e5d-9ff8-9e6ab73c4168",
   "metadata": {},
   "outputs": [
    {
     "name": "stdout",
     "output_type": "stream",
     "text": [
      "0 hello world\n",
      "1 hello world\n",
      "4 hello world\n",
      "6 hello world\n",
      "7 hello world\n",
      "8 hello world\n",
      "9 hello world\n"
     ]
    }
   ],
   "source": [
    "for i in range(10):\n",
    "    if i==2 or i==3 or i==5:               \n",
    "        continue             # continue is not run  the function of that value ( 2,3,5 )\n",
    "    print(i,\"hello world\")"
   ]
  },
  {
   "cell_type": "code",
   "execution_count": 107,
   "id": "5d092753-7c48-4f5b-9c61-7d6246ac78bb",
   "metadata": {},
   "outputs": [
    {
     "name": "stdout",
     "output_type": "stream",
     "text": [
      "0 hello world\n",
      "1 hello world\n",
      "4 hello world\n",
      "6 hello world\n",
      "7 hello world\n",
      "8 hello world\n",
      "9 hello world\n"
     ]
    }
   ],
   "source": [
    "for i in range(10):\n",
    "    if i in [2,3,5]:     # This is the shorter method if we have so many values \n",
    "        continue\n",
    "    print(i,\"hello world\")"
   ]
  },
  {
   "cell_type": "code",
   "execution_count": 110,
   "id": "319149f3-42c5-4b79-978b-627eb76ffe5b",
   "metadata": {},
   "outputs": [
    {
     "name": "stdout",
     "output_type": "stream",
     "text": [
      "0  hello world\n",
      "1 hey shivam\n",
      "4 hey shivam\n",
      "6  hello world\n",
      "7  hello world\n",
      "8  hello world\n",
      "9  hello world\n"
     ]
    }
   ],
   "source": [
    "for i in range(10):\n",
    "    if i in [2,3,5]:\n",
    "        continue\n",
    "    elif i in  [1,4]:\n",
    "        print(i,\"hey shivam\")\n",
    "    else:\n",
    "        print(i,\" hello world\")\n",
    "    "
   ]
  },
  {
   "cell_type": "code",
   "execution_count": 111,
   "id": "c03af764-18d9-4943-ae36-756965f0457f",
   "metadata": {},
   "outputs": [],
   "source": [
    " # break      ( stop the function immedtely\n",
    "\n",
    "(use inside  the loop only )"
   ]
  },
  {
   "cell_type": "code",
   "execution_count": 113,
   "id": "25f81c06-c3b3-4c5f-a80e-1add815d6c1d",
   "metadata": {},
   "outputs": [
    {
     "name": "stdout",
     "output_type": "stream",
     "text": [
      "0  hello world\n",
      "1  hello world\n",
      "2  hello world\n"
     ]
    }
   ],
   "source": [
    "for i in range(10):\n",
    "    if i==3:\n",
    "        break\n",
    "    print(i,\" hello world\")"
   ]
  },
  {
   "cell_type": "code",
   "execution_count": 114,
   "id": "e8a8f09a-e256-43d9-b6bc-77ff7401c46b",
   "metadata": {},
   "outputs": [],
   "source": [
    "# pass   ( it help in run the function without compliation )"
   ]
  },
  {
   "cell_type": "code",
   "execution_count": 119,
   "id": "5b5c7cfb-0258-411b-ac86-0db93dcaaf06",
   "metadata": {},
   "outputs": [
    {
     "name": "stdin",
     "output_type": "stream",
     "text": [
      "Enter the number : 10\n"
     ]
    },
    {
     "name": "stdout",
     "output_type": "stream",
     "text": [
      "even number\n",
      "hello world\n"
     ]
    }
   ],
   "source": [
    "num1=int(input(\"Enter the number :\"))\n",
    "if num1%2==0:\n",
    "    print(\"even number\")\n",
    "else:\n",
    "    print(\"odd number\")\n",
    "\n",
    "print(\"hello world\")        "
   ]
  },
  {
   "cell_type": "code",
   "execution_count": 116,
   "id": "438767c8-82b3-42ff-87b2-e9888a5d9c1c",
   "metadata": {},
   "outputs": [
    {
     "ename": "IndentationError",
     "evalue": "expected an indented block after 'if' statement on line 2 (2617760158.py, line 4)",
     "output_type": "error",
     "traceback": [
      "\u001b[1;36m  Cell \u001b[1;32mIn[116], line 4\u001b[1;36m\u001b[0m\n\u001b[1;33m    else:\u001b[0m\n\u001b[1;37m    ^\u001b[0m\n\u001b[1;31mIndentationError\u001b[0m\u001b[1;31m:\u001b[0m expected an indented block after 'if' statement on line 2\n"
     ]
    }
   ],
   "source": [
    "num1=int(input(\"Enter the number :\"))\n",
    "if num1%2==0:\n",
    "    \n",
    "else:\n",
    "    print(\"odd number\")\n",
    "print(\"hello world\")\n",
    "         "
   ]
  },
  {
   "cell_type": "code",
   "execution_count": 120,
   "id": "35932749-1afe-4573-82fa-5f607f88ffc7",
   "metadata": {},
   "outputs": [
    {
     "name": "stdin",
     "output_type": "stream",
     "text": [
      "Enter the number : 10\n"
     ]
    },
    {
     "name": "stdout",
     "output_type": "stream",
     "text": [
      "hello world\n"
     ]
    }
   ],
   "source": [
    "num1=int(input(\"Enter the number :\"))\n",
    "if num1%2==0:\n",
    "    pass\n",
    "else:\n",
    "    print(\"odd number\")\n",
    "\n",
    "print(\"hello world\")         "
   ]
  },
  {
   "cell_type": "code",
   "execution_count": 122,
   "id": "3dba84c5-856e-4c41-94a5-ac54ea6e63cc",
   "metadata": {},
   "outputs": [
    {
     "name": "stdin",
     "output_type": "stream",
     "text": [
      "Enter the number : 11\n"
     ]
    },
    {
     "name": "stdout",
     "output_type": "stream",
     "text": [
      "hello world\n"
     ]
    }
   ],
   "source": [
    "num1=int(input(\"Enter the number :\"))\n",
    "if num1%2==0:\n",
    "    print(\"even number\")\n",
    "else:\n",
    "    pass\n",
    "\n",
    "print(\"hello world\")        "
   ]
  },
  {
   "cell_type": "raw",
   "id": "b9c183bd-4a66-4f1a-b50d-56dd8c172c11",
   "metadata": {},
   "source": [
    " > while Loop \n",
    "\n",
    "      > single while loop\n",
    "      > nested while loop \n",
    "      > simple while loop with pattern \n",
    "      > nested while loop with pattern\n",
    "      > break\n",
    "      > continue\n",
    "      > pass "
   ]
  },
  {
   "cell_type": "code",
   "execution_count": null,
   "id": "4ef0da67-fc3e-41a7-a17f-42f6260440ae",
   "metadata": {},
   "outputs": [],
   "source": [
    "initializer\n",
    "while condition\n",
    "    statement(s)\n",
    "    increment/ decrement"
   ]
  },
  {
   "cell_type": "code",
   "execution_count": 124,
   "id": "205fbe49-1d28-4944-955e-1d052813770e",
   "metadata": {},
   "outputs": [
    {
     "name": "stdout",
     "output_type": "stream",
     "text": [
      "hello world\n",
      "hello world\n",
      "hello world\n",
      "hello world\n",
      "hello world\n"
     ]
    }
   ],
   "source": [
    "i=1\n",
    "while i<=5:\n",
    "    print(\"hello world\")\n",
    "    i=i+1"
   ]
  },
  {
   "cell_type": "code",
   "execution_count": 132,
   "id": "6d5b2447-c83e-4340-a3e1-754eb1fd69c5",
   "metadata": {},
   "outputs": [
    {
     "name": "stdout",
     "output_type": "stream",
     "text": [
      "rahul\n",
      "mohan\n",
      "sachin\n",
      "tarun\n"
     ]
    }
   ],
   "source": [
    "a=[\"rahul\",\"mohan\",\"sachin\",\"tarun\"]\n",
    "i=0\n",
    "while i<4:\n",
    "    print(a[i])\n",
    "    i=i+1"
   ]
  },
  {
   "cell_type": "code",
   "execution_count": 135,
   "id": "06bda042-7e9b-404e-b4fe-681fc4247cb7",
   "metadata": {},
   "outputs": [
    {
     "name": "stdout",
     "output_type": "stream",
     "text": [
      "tarun\n",
      "sachin\n",
      "mohan\n",
      "rahul\n"
     ]
    }
   ],
   "source": [
    "a=[\"rahul\",\"mohan\",\"sachin\",\"tarun\"]\n",
    "i=0\n",
    "while i<4:\n",
    "    print(a[-(i+1)])     # this reverse the list \n",
    "    i=i+1"
   ]
  },
  {
   "cell_type": "code",
   "execution_count": 137,
   "id": "38889df7-7637-4454-82f7-d3459dccbaff",
   "metadata": {},
   "outputs": [
    {
     "name": "stdout",
     "output_type": "stream",
     "text": [
      "1 tarun\n",
      "2 sachin\n",
      "3 mohan\n",
      "4 rahul\n"
     ]
    }
   ],
   "source": [
    "a=[\"rahul\",\"mohan\",\"sachin\",\"tarun\"]\n",
    "i=0\n",
    "while i<4:\n",
    "    print(i+1,a[-(i+1)])     \n",
    "    i=i+1"
   ]
  },
  {
   "cell_type": "code",
   "execution_count": 140,
   "id": "95902aac-0b62-4d33-acd9-ba96ac68c21d",
   "metadata": {},
   "outputs": [
    {
     "name": "stdout",
     "output_type": "stream",
     "text": [
      "1=tarun\n",
      "2=sachin\n",
      "3=mohan\n",
      "4=rahul\n"
     ]
    }
   ],
   "source": [
    "a=[\"rahul\",\"mohan\",\"sachin\",\"tarun\"]\n",
    "i=0\n",
    "while i<4:\n",
    "    print(i+1,\"=\",a[-(i+1)],sep=\"\")     \n",
    "    i=i+1"
   ]
  },
  {
   "cell_type": "code",
   "execution_count": 142,
   "id": "de512f9a-a1d6-4408-845e-1a13a81ecf01",
   "metadata": {},
   "outputs": [],
   "source": [
    "a=[\"rahul\",\"mohan\",\"sachin\",\"tarun\"]\n",
    "new=[]\n",
    "i=0\n",
    "while i<4:\n",
    "    new.append(a[-(i+1)])     \n",
    "    i=i+1"
   ]
  },
  {
   "cell_type": "code",
   "execution_count": 143,
   "id": "caee82a8-f729-4711-b70a-551f541a7a1c",
   "metadata": {},
   "outputs": [
    {
     "name": "stdout",
     "output_type": "stream",
     "text": [
      "['tarun', 'sachin', 'mohan', 'rahul']\n"
     ]
    }
   ],
   "source": [
    "print(new)    # order in the list is reverse "
   ]
  },
  {
   "cell_type": "code",
   "execution_count": 144,
   "id": "5130fe58-2fb9-4204-9eb5-53079903d6fe",
   "metadata": {},
   "outputs": [],
   "source": [
    "b=\"tarun\""
   ]
  },
  {
   "cell_type": "code",
   "execution_count": 145,
   "id": "d126f745-2614-4cc3-aae5-113c60f272c6",
   "metadata": {},
   "outputs": [
    {
     "name": "stdout",
     "output_type": "stream",
     "text": [
      "tarun\n"
     ]
    }
   ],
   "source": [
    "print(b)"
   ]
  },
  {
   "cell_type": "code",
   "execution_count": 146,
   "id": "4b743d0d-a9af-4fb3-a14d-06a3e4586165",
   "metadata": {},
   "outputs": [
    {
     "data": {
      "text/plain": [
       "'nurat'"
      ]
     },
     "execution_count": 146,
     "metadata": {},
     "output_type": "execute_result"
    }
   ],
   "source": [
    "b[-1::-1]    # it reverse the letter of the word in (tarun)"
   ]
  },
  {
   "cell_type": "code",
   "execution_count": 151,
   "id": "aeff0546-6404-48b1-ac89-d3f1417954a3",
   "metadata": {},
   "outputs": [
    {
     "name": "stdout",
     "output_type": "stream",
     "text": [
      "['nurat', 'nihcas', 'nahom', 'luhar']\n"
     ]
    }
   ],
   "source": [
    "a=[\"rahul\",\"mohan\",\"sachin\",\"tarun\"]\n",
    "new=[]\n",
    "i=0\n",
    "while i<4:\n",
    "    c=a[-(i+1)]\n",
    "    d=c[-1::-1]      # it reverse the lettr of the word in the list\n",
    "    new.append(d)    \n",
    "    i=i+1\n",
    "print(new)"
   ]
  },
  {
   "cell_type": "code",
   "execution_count": 153,
   "id": "f8557a51-2347-46be-87e2-e3a94ba036e3",
   "metadata": {},
   "outputs": [
    {
     "name": "stdout",
     "output_type": "stream",
     "text": [
      "['nurat', 'nihcas', 'nahom', 'luhar']\n"
     ]
    }
   ],
   "source": [
    "a=[\"rahul\",\"mohan\",\"sachin\",\"tarun\"]\n",
    "new=[]\n",
    "i=0\n",
    "while i<4:      # it reverse the lettr of the word in the list\n",
    "    new.append(a[-(i+1)][-1::-1] )    # shorter method \n",
    "    i=i+1\n",
    "print(new)"
   ]
  },
  {
   "cell_type": "code",
   "execution_count": 154,
   "id": "9d51eca1-92e2-444b-a513-d5cde6526c89",
   "metadata": {},
   "outputs": [],
   "source": [
    "# pattern using simple while loop"
   ]
  },
  {
   "cell_type": "code",
   "execution_count": 155,
   "id": "ac00aab0-6fa4-4f61-b29a-a9ef0e0677e1",
   "metadata": {},
   "outputs": [
    {
     "name": "stdout",
     "output_type": "stream",
     "text": [
      "*\n",
      "**\n",
      "***\n",
      "****\n",
      "*****\n"
     ]
    }
   ],
   "source": [
    "i=1\n",
    "while i<6:\n",
    "    print(\"*\"*i)\n",
    "    i+=1"
   ]
  },
  {
   "cell_type": "code",
   "execution_count": 157,
   "id": "51d32f15-4353-4bf4-9fae-a80c98566935",
   "metadata": {},
   "outputs": [
    {
     "name": "stdout",
     "output_type": "stream",
     "text": [
      "*\n",
      "**\n",
      "***\n",
      "****\n",
      "*****\n"
     ]
    }
   ],
   "source": [
    "for i in range(5):     # for loop\n",
    "    print(\"*\"*(i+1))"
   ]
  },
  {
   "cell_type": "code",
   "execution_count": 1,
   "id": "df35d229-1dde-4a88-88d4-229d60517f4e",
   "metadata": {},
   "outputs": [
    {
     "name": "stdout",
     "output_type": "stream",
     "text": [
      "    *\n",
      "    **\n",
      "    ***\n",
      "    ****\n"
     ]
    }
   ],
   "source": [
    "i=1\n",
    "while i<5:\n",
    "    print(\" \"*(5-1)+\"*\"*i)\n",
    "    i=i+1"
   ]
  },
  {
   "cell_type": "code",
   "execution_count": 2,
   "id": "89145398-42c9-494f-8044-aee6034ed06b",
   "metadata": {},
   "outputs": [
    {
     "name": "stdout",
     "output_type": "stream",
     "text": [
      "* * * * *\n",
      "*       *\n",
      "*       *\n",
      "*       *\n",
      "* * * * *\n"
     ]
    }
   ],
   "source": [
    "print(\"* * * * *\")\n",
    "print(\"*       *\")\n",
    "print(\"*       *\")\n",
    "print(\"*       *\")\n",
    "print(\"* * * * *\")"
   ]
  },
  {
   "cell_type": "code",
   "execution_count": 6,
   "id": "06e0bfc1-8023-4a02-b930-3849011e959e",
   "metadata": {},
   "outputs": [
    {
     "name": "stdout",
     "output_type": "stream",
     "text": [
      "* * * * * \n",
      "*       *\n",
      "*       *\n",
      "*       *\n",
      "* * * * * \n",
      "*       *\n",
      "*       *\n",
      "*       *\n",
      "* * * * * \n"
     ]
    }
   ],
   "source": [
    "i=1\n",
    "while  i<=9:\n",
    "    if i==1 or i==5 or i==9:\n",
    "        print(\"* \"*5)\n",
    "    else:\n",
    "        print(\"*\"+\" \"*7+\"*\")\n",
    "    i=i+1\n",
    "        "
   ]
  },
  {
   "cell_type": "code",
   "execution_count": 8,
   "id": "a835c4dd-b3c1-4698-8e37-7505c08f9181",
   "metadata": {},
   "outputs": [
    {
     "name": "stdout",
     "output_type": "stream",
     "text": [
      "* * * * * \n",
      "* *     *\n",
      "*   *   *\n",
      "*     * *\n",
      "* * * * * \n",
      "*       *\n",
      "*       *\n",
      "*       *\n",
      "* * * * * \n"
     ]
    }
   ],
   "source": [
    "i=1\n",
    "k=1\n",
    "while  i<=9:\n",
    "    if i==1 or i==5 or i==9:\n",
    "        print(\"* \"*5)\n",
    "    elif i in [2,3,4]:\n",
    "        print(\"*\"+\" \"*k+\"*\"+\" \"*(6-k)+\"*\")\n",
    "        k=k+2\n",
    "    else:\n",
    "        print(\"*\"+\" \"*7+\"*\")\n",
    "    i=i+1\n",
    "        "
   ]
  },
  {
   "cell_type": "code",
   "execution_count": null,
   "id": "e0a7ac99-c65f-4846-893e-3767bcc28c69",
   "metadata": {},
   "outputs": [],
   "source": []
  }
 ],
 "metadata": {
  "kernelspec": {
   "display_name": "Python 3 (ipykernel)",
   "language": "python",
   "name": "python3"
  },
  "language_info": {
   "codemirror_mode": {
    "name": "ipython",
    "version": 3
   },
   "file_extension": ".py",
   "mimetype": "text/x-python",
   "name": "python",
   "nbconvert_exporter": "python",
   "pygments_lexer": "ipython3",
   "version": "3.11.4"
  },
  "widgets": {
   "application/vnd.jupyter.widget-state+json": {
    "state": {},
    "version_major": 2,
    "version_minor": 0
   }
  }
 },
 "nbformat": 4,
 "nbformat_minor": 5
}
