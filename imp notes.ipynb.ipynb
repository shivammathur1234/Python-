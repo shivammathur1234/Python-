{
 "cells": [
  {
   "cell_type": "code",
   "execution_count": 1,
   "id": "b7603ea4-6d87-460d-a616-3a28354bf5f6",
   "metadata": {},
   "outputs": [],
   "source": [
    "python introduction:\n",
    "> print()\n",
    "> variable\n",
    "> comment\n",
    "> datatype\n",
    "    > int\n",
    "    > float\n",
    "    > string\n",
    "    > list\n",
    "    > tuple\n",
    "    > set\n",
    "    > frozenset\n",
    "    > dictinary\n",
    "    > bool\n",
    "    > complex\n",
    "> casting\n",
    "> input()\n",
    "> conditional programming(if, else , elif, nested if else, nested if elif else, ternary operator )\n",
    "> loop\n",
    "    > for loop(nest for loop, list comprehension, dictionary comprehension, set comprehension)\n",
    "    > while loop(nest while loop)\n",
    "    > pattern using single loop(for loop, while loop)\n",
    "    > pattern using more then one loop(for loop, while loop )\n",
    "> function \n",
    "    > def \n",
    "    > lambda(anonymous function, fat function )\n",
    "> decorator\n",
    "> multitasking(threading)\n",
    "> garbage collector (gc)\n",
    "> OOPs(object oriented programming)\n",
    "    > class\n",
    "    > object\n",
    "    > Encapsulation\n",
    "    > polymorphism\n",
    "    > inheritance\n",
    "    > abstraction \n",
    "        <<>> class function \n",
    "            >> class variable \n",
    "            >> static function\n",
    "\n",
    "> Database(CRUD--> Create , Read , Update, delete)\n",
    "    > SQL(Mysql)\n",
    "    > NoSQL(MongoDB)\n",
    "\n",
    "\n",
    "\n",
    "     #improtant notes\n",
    "    #variables - a,b,c,d\n",
    "    #comments - use # in comments ( comment use only for Notes)\n",
    "          #Data type\n",
    "             #string '',\"\",\"\"\"\"\"\",''''''\n",
    "             #in string of (\"\"\" \"\"\"\") no syntex error if we press enter in string\n"
   ]
  },
  {
   "cell_type": "code",
   "execution_count": 1,
   "id": "427c537d-33fa-4e0d-9ff1-ca6170eac5f9",
   "metadata": {},
   "outputs": [],
   "source": [
    "# string is immutable (values always same but id alwasys different its called immutable)"
   ]
  },
  {
   "cell_type": "code",
   "execution_count": null,
   "id": "35626fd6-ae1b-4572-a89c-16f40de9f486",
   "metadata": {},
   "outputs": [],
   "source": [
    "#List\n",
    "#List constructor()\n",
    "#List literal is []\n",
    "#list is a set of sequences of element\n",
    "#List is support indexing and slicing\n",
    "#List is mutable (changable)\n",
    "#List is support nested list (list inside list)\n",
    "#list support concatination\n",
    "#List has number of method"
   ]
  },
  {
   "cell_type": "code",
   "execution_count": 2,
   "id": "3999b942-1fb6-4e09-957c-175a470f8e30",
   "metadata": {},
   "outputs": [],
   "source": [
    "# [] - This is square Bracket\n",
    "# () - This is Parentheses\n",
    "# (\"\") - This is Quotation Mark\n",
    "# (:) - This is colon\n",
    "# (_) - This is Underscore\n",
    "# ({}) - This is Curly Bracket\n",
    "# (;) - This is Semicolon"
   ]
  },
  {
   "cell_type": "code",
   "execution_count": 1,
   "id": "20f5bc51-f298-48a6-9570-ee47078b5bf4",
   "metadata": {},
   "outputs": [],
   "source": [
    "# Indexing is always in [] square bracket           ## v.v imp\n",
    "# Slicing is also always in [] square bracket"
   ]
  },
  {
   "cell_type": "code",
   "execution_count": 2,
   "id": "9d5d02c7-5d1d-4230-8132-87ea3735c0ef",
   "metadata": {},
   "outputs": [
    {
     "name": "stdout",
     "output_type": "stream",
     "text": [
      "<class 'list'>\n"
     ]
    },
    {
     "data": {
      "text/plain": [
       "['__add__',\n",
       " '__class__',\n",
       " '__class_getitem__',\n",
       " '__contains__',\n",
       " '__delattr__',\n",
       " '__delitem__',\n",
       " '__dir__',\n",
       " '__doc__',\n",
       " '__eq__',\n",
       " '__format__',\n",
       " '__ge__',\n",
       " '__getattribute__',\n",
       " '__getitem__',\n",
       " '__getstate__',\n",
       " '__gt__',\n",
       " '__hash__',\n",
       " '__iadd__',\n",
       " '__imul__',\n",
       " '__init__',\n",
       " '__init_subclass__',\n",
       " '__iter__',\n",
       " '__le__',\n",
       " '__len__',\n",
       " '__lt__',\n",
       " '__mul__',\n",
       " '__ne__',\n",
       " '__new__',\n",
       " '__reduce__',\n",
       " '__reduce_ex__',\n",
       " '__repr__',\n",
       " '__reversed__',\n",
       " '__rmul__',\n",
       " '__setattr__',\n",
       " '__setitem__',\n",
       " '__sizeof__',\n",
       " '__str__',\n",
       " '__subclasshook__',\n",
       " 'append',\n",
       " 'clear',\n",
       " 'copy',\n",
       " 'count',\n",
       " 'extend',\n",
       " 'index',\n",
       " 'insert',\n",
       " 'pop',\n",
       " 'remove',\n",
       " 'reverse',\n",
       " 'sort']"
      ]
     },
     "execution_count": 2,
     "metadata": {},
     "output_type": "execute_result"
    }
   ],
   "source": [
    " # Iterable\n",
    "a=[1,2,3]\n",
    "print(type(a))\n",
    "dir(a) "
   ]
  },
  {
   "cell_type": "code",
   "execution_count": 3,
   "id": "f7e9ea65-10bd-4809-aa47-5b3de38fb26b",
   "metadata": {},
   "outputs": [],
   "source": [
    "# Immutable datatype\n",
    "    # integrs\n",
    "    # Float \n",
    "    # Tuple\n",
    "    # String\n",
    "    # frozenset\n",
    "        \n",
    "                # This is all immutable data type"
   ]
  },
  {
   "cell_type": "code",
   "execution_count": 4,
   "id": "c02447eb-eaf4-4aa7-802e-4af91f1ae533",
   "metadata": {},
   "outputs": [],
   "source": [
    "# Mutable data type \n",
    "    # List\n",
    "    # Set \n",
    "    # Dictionary"
   ]
  },
  {
   "cell_type": "code",
   "execution_count": 35,
   "id": "82a1385a-4609-43e5-86f6-eaf1fb27c714",
   "metadata": {},
   "outputs": [],
   "source": [
    "a=(0)"
   ]
  },
  {
   "cell_type": "code",
   "execution_count": 36,
   "id": "598fe44d-6c30-4385-a6e2-f939de48c762",
   "metadata": {},
   "outputs": [
    {
     "name": "stdout",
     "output_type": "stream",
     "text": [
      "<class 'int'>\n"
     ]
    }
   ],
   "source": [
    "print(type(a))"
   ]
  },
  {
   "cell_type": "code",
   "execution_count": 37,
   "id": "92c3ee3a-9be4-4f38-b747-38572a11d5d7",
   "metadata": {},
   "outputs": [],
   "source": [
    "a=(0.0)"
   ]
  },
  {
   "cell_type": "code",
   "execution_count": 38,
   "id": "d8c59c3e-3a40-4464-9de6-a8a466bb045a",
   "metadata": {},
   "outputs": [
    {
     "name": "stdout",
     "output_type": "stream",
     "text": [
      "<class 'float'>\n"
     ]
    }
   ],
   "source": [
    "print(type(a))"
   ]
  },
  {
   "cell_type": "code",
   "execution_count": 39,
   "id": "be0697d6-5844-4a45-a870-a5d72b9b5081",
   "metadata": {},
   "outputs": [],
   "source": [
    "a=(\"\")"
   ]
  },
  {
   "cell_type": "code",
   "execution_count": 40,
   "id": "28e160db-3785-46f3-827a-c6ba918424d9",
   "metadata": {},
   "outputs": [
    {
     "name": "stdout",
     "output_type": "stream",
     "text": [
      "<class 'str'>\n"
     ]
    }
   ],
   "source": [
    "print(type(a))"
   ]
  },
  {
   "cell_type": "code",
   "execution_count": 9,
   "id": "42170165-da6d-45ec-bccc-22a2c3ab21d9",
   "metadata": {},
   "outputs": [],
   "source": [
    "a=[]"
   ]
  },
  {
   "cell_type": "code",
   "execution_count": 10,
   "id": "3b03d926-654a-44b3-aa53-5719d6b59af8",
   "metadata": {},
   "outputs": [
    {
     "name": "stdout",
     "output_type": "stream",
     "text": [
      "<class 'list'>\n"
     ]
    }
   ],
   "source": [
    "print(type(a))"
   ]
  },
  {
   "cell_type": "code",
   "execution_count": 15,
   "id": "51a3e023-442c-4a16-be5a-42299c03444a",
   "metadata": {},
   "outputs": [],
   "source": [
    "a=()"
   ]
  },
  {
   "cell_type": "code",
   "execution_count": 16,
   "id": "69e029cb-81cc-4b2a-ba78-50b8ff84dc11",
   "metadata": {},
   "outputs": [
    {
     "name": "stdout",
     "output_type": "stream",
     "text": [
      "<class 'tuple'>\n"
     ]
    }
   ],
   "source": [
    "print(type(a))"
   ]
  },
  {
   "cell_type": "code",
   "execution_count": 25,
   "id": "a392a036-b23a-4fa5-91e0-aeea872fefa9",
   "metadata": {},
   "outputs": [],
   "source": [
    "a=()"
   ]
  },
  {
   "cell_type": "code",
   "execution_count": 26,
   "id": "8c5b30f6-bd8c-470b-a6ca-624a9bbf2c48",
   "metadata": {},
   "outputs": [
    {
     "name": "stdout",
     "output_type": "stream",
     "text": [
      "<class 'tuple'>\n"
     ]
    }
   ],
   "source": [
    "print(type(a))"
   ]
  },
  {
   "cell_type": "code",
   "execution_count": 21,
   "id": "ab34585a-d2a8-43e8-bb5f-4842a1b3fd1e",
   "metadata": {},
   "outputs": [],
   "source": [
    "a=(0,)"
   ]
  },
  {
   "cell_type": "code",
   "execution_count": 22,
   "id": "e4ccf5f8-91ab-4b35-b396-8318ef485994",
   "metadata": {},
   "outputs": [
    {
     "name": "stdout",
     "output_type": "stream",
     "text": [
      "<class 'tuple'>\n"
     ]
    }
   ],
   "source": [
    "print(type(a))"
   ]
  },
  {
   "cell_type": "code",
   "execution_count": 27,
   "id": "c8cc8c1c-5526-40ce-aacb-3386a7a6aa62",
   "metadata": {},
   "outputs": [],
   "source": [
    "a=frozenset()"
   ]
  },
  {
   "cell_type": "code",
   "execution_count": 28,
   "id": "44edafda-aaaf-437e-a0fe-b5972c0a03a0",
   "metadata": {},
   "outputs": [
    {
     "name": "stdout",
     "output_type": "stream",
     "text": [
      "<class 'frozenset'>\n"
     ]
    }
   ],
   "source": [
    "print(type(a))"
   ]
  },
  {
   "cell_type": "code",
   "execution_count": 43,
   "id": "28af0c37-2584-457c-8ed5-3aa8781af147",
   "metadata": {},
   "outputs": [],
   "source": [
    "a={1}"
   ]
  },
  {
   "cell_type": "code",
   "execution_count": 44,
   "id": "fb53f84d-75b6-4390-a718-de5503e271f3",
   "metadata": {},
   "outputs": [
    {
     "name": "stdout",
     "output_type": "stream",
     "text": [
      "<class 'set'>\n"
     ]
    }
   ],
   "source": [
    "print(type(a))"
   ]
  },
  {
   "cell_type": "code",
   "execution_count": 41,
   "id": "851dfea4-61a9-4faf-a86d-573e99b8113e",
   "metadata": {},
   "outputs": [],
   "source": [
    "a={}"
   ]
  },
  {
   "cell_type": "code",
   "execution_count": 42,
   "id": "f6894833-7807-4882-919f-28d04731b798",
   "metadata": {},
   "outputs": [
    {
     "name": "stdout",
     "output_type": "stream",
     "text": [
      "<class 'dict'>\n"
     ]
    }
   ],
   "source": [
    "print(type(a))"
   ]
  },
  {
   "cell_type": "code",
   "execution_count": 4,
   "id": "f9639c3d-021d-49ba-abd6-6c7534c0e545",
   "metadata": {},
   "outputs": [],
   "source": [
    "a=complex()"
   ]
  },
  {
   "cell_type": "raw",
   "id": "edaa121a-51b0-41ba-973f-8a28ab49a181",
   "metadata": {},
   "source": [
    "print(a)"
   ]
  },
  {
   "cell_type": "code",
   "execution_count": null,
   "id": "6cb7357a-3da8-4c13-9f60-bcfc889d3f92",
   "metadata": {},
   "outputs": [],
   "source": []
  },
  {
   "cell_type": "code",
   "execution_count": 1,
   "id": "a7a2f47e-cb29-4a89-ac57-969c901d0faf",
   "metadata": {},
   "outputs": [],
   "source": [
    "  # how many data type have Parentheses()\n",
    "\n",
    "      # integer()\n",
    "      # float () \n",
    "      # List ()\n",
    "      # Tuple ()\n",
    "      # Set ()\n",
    "      # Dictionary () \n",
    "      # complex ()           # these data type have Parenthese ()"
   ]
  },
  {
   "cell_type": "code",
   "execution_count": 2,
   "id": "f688f9de-7879-4924-a59e-cae1eba841f5",
   "metadata": {},
   "outputs": [],
   "source": [
    "# Boolean  result always in ( True and false) its called boolean"
   ]
  },
  {
   "cell_type": "code",
   "execution_count": null,
   "id": "334e878e-29c1-4dcd-bf69-4a91bb84d808",
   "metadata": {},
   "outputs": [],
   "source": [
    "  # Eval do a function of ( int to int and float to float ) no conversion in the eval function\n",
    "\n",
    "       # why we use Eval\n",
    "                 # because if we have float value(10.2) than  string  cannot directly converted into float beacuse \n",
    "                     # of this reason we use Eval\n",
    "\n",
    "      # if any function in float than eval directly chnage into float"
   ]
  },
  {
   "cell_type": "code",
   "execution_count": null,
   "id": "beed7628-d016-4607-bb91-7628aa89107b",
   "metadata": {},
   "outputs": [],
   "source": [
    "# python is work on indentation ( indent)"
   ]
  },
  {
   "cell_type": "code",
   "execution_count": null,
   "id": "51f58fea-24a0-41a8-80c0-86d38d07479d",
   "metadata": {},
   "outputs": [],
   "source": [
    "print()   # inside the parenthsis (shiift+tab) then box is pop up "
   ]
  },
  {
   "cell_type": "code",
   "execution_count": null,
   "id": "29ff53f4-eb78-4332-9fd7-28100c627293",
   "metadata": {},
   "outputs": [],
   "source": [
    "# lambda function ( it is the single line function )"
   ]
  },
  {
   "cell_type": "code",
   "execution_count": 2,
   "id": "357997f0-19aa-46ed-9d9b-bc2a4e1d568d",
   "metadata": {},
   "outputs": [],
   "source": [
    "hello=lambda name:print(\"i am {}\" .format(name))"
   ]
  },
  {
   "cell_type": "code",
   "execution_count": 3,
   "id": "22bac369-ed29-4f0e-ba6d-2cdcf21635ab",
   "metadata": {},
   "outputs": [
    {
     "name": "stdout",
     "output_type": "stream",
     "text": [
      "i am shivam\n"
     ]
    }
   ],
   "source": [
    "hello(\"shivam\")"
   ]
  },
  {
   "cell_type": "markdown",
   "id": "0e03a600",
   "metadata": {},
   "source": [
    "# package = ( it is folder that contains module  it called package ) "
   ]
  },
  {
   "cell_type": "markdown",
   "id": "3cf9e80c",
   "metadata": {},
   "source": [
    "# module =( its a plane python file )     "
   ]
  }
 ],
 "metadata": {
  "kernelspec": {
   "display_name": "Python 3 (ipykernel)",
   "language": "python",
   "name": "python3"
  },
  "language_info": {
   "codemirror_mode": {
    "name": "ipython",
    "version": 3
   },
   "file_extension": ".py",
   "mimetype": "text/x-python",
   "name": "python",
   "nbconvert_exporter": "python",
   "pygments_lexer": "ipython3",
   "version": "3.11.4"
  },
  "widgets": {
   "application/vnd.jupyter.widget-state+json": {
    "state": {},
    "version_major": 2,
    "version_minor": 0
   }
  }
 },
 "nbformat": 4,
 "nbformat_minor": 5
}
