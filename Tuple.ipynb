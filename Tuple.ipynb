{
 "cells": [
  {
   "cell_type": "code",
   "execution_count": 2,
   "id": "a597e1b2-a78c-453d-b281-beb5997cd818",
   "metadata": {},
   "outputs": [],
   "source": [
    "# Tuple     ( Difference between Tuple and List -- Tuple -- Is Immutable\n",
    "                                                 # List  -- is  mutable\n",
    "\n",
    "# Tuple constructor is tuple()\n",
    "# Tuple Literal is ()\n",
    "# Tuple is Immutable (values always same but id alwasys different its called immutable)\n",
    "# Tuple support indexing and slicing , Nested tuple( tuple inside tuple its called Nested tuple)\n",
    "# Tuple is faster than List\n",
    "# Tuple has two method Indexing() and Count()\n",
    "# Tuple is a set of sequences of element"
   ]
  },
  {
   "cell_type": "code",
   "execution_count": 10,
   "id": "dbe89e7f-f882-41ef-b9e0-909b04a4409f",
   "metadata": {},
   "outputs": [],
   "source": [
    "a=(10,10.0,\"10\",[1,2,3],(1,2,3))   # Tuple always in ()\n",
    "  #(int,flot,str, list,   tuple)  -- # This is Tuple\n"
   ]
  },
  {
   "cell_type": "code",
   "execution_count": 7,
   "id": "1a3eebd7-a9b5-4251-b2e3-6fd8296769b9",
   "metadata": {},
   "outputs": [
    {
     "name": "stdout",
     "output_type": "stream",
     "text": [
      "(10, 10.0, '10', [1, 2, 3], (1, 2, 3))\n"
     ]
    }
   ],
   "source": [
    "print(a)"
   ]
  },
  {
   "cell_type": "code",
   "execution_count": 8,
   "id": "4b732d3e-93a9-47ee-9663-a1935c9c5618",
   "metadata": {},
   "outputs": [
    {
     "name": "stdout",
     "output_type": "stream",
     "text": [
      "<class 'tuple'>\n"
     ]
    }
   ],
   "source": [
    "print(type(a))"
   ]
  },
  {
   "cell_type": "code",
   "execution_count": 2,
   "id": "0b0380d7-33d8-4aaa-9814-df73f1c56d18",
   "metadata": {},
   "outputs": [],
   "source": [
    "a=(10,10.0,\"10\",[1,2,3],(1,2,3))"
   ]
  },
  {
   "cell_type": "code",
   "execution_count": 6,
   "id": "8dcad08e-53b7-4332-bf4c-8da55fedb0b4",
   "metadata": {},
   "outputs": [
    {
     "name": "stdout",
     "output_type": "stream",
     "text": [
      "(10.0, '10', [1, 2, 3])\n"
     ]
    }
   ],
   "source": [
    "print(a[1:4:1])    # This is slicing , when we slice the porition in the tuple"
   ]
  },
  {
   "cell_type": "code",
   "execution_count": 7,
   "id": "c0a2a5a0-9783-4806-8f2b-c3daf7a5eb8f",
   "metadata": {},
   "outputs": [],
   "source": [
    "a=(10,10.0,\"10\",[1,2,3],(1,2,3))  "
   ]
  },
  {
   "cell_type": "code",
   "execution_count": 8,
   "id": "d67ee762-3cb7-4139-a176-131631f1e745",
   "metadata": {},
   "outputs": [
    {
     "name": "stdout",
     "output_type": "stream",
     "text": [
      "((1, 2, 3), [1, 2, 3], '10', 10.0, 10)\n"
     ]
    }
   ],
   "source": [
    "print(a[-1::-1])  # This is the method that reverse the order the tuple"
   ]
  },
  {
   "cell_type": "code",
   "execution_count": 12,
   "id": "686510bc-dfea-4739-8844-7bedff6a18d2",
   "metadata": {},
   "outputs": [],
   "source": [
    "a=(10,10.0,\"10\",[1,2,3],(1,2,3,),10,10)"
   ]
  },
  {
   "cell_type": "code",
   "execution_count": 13,
   "id": "3d09d7ba-589d-40f3-aeb1-9378ddea07a3",
   "metadata": {},
   "outputs": [
    {
     "data": {
      "text/plain": [
       "4"
      ]
     },
     "execution_count": 13,
     "metadata": {},
     "output_type": "execute_result"
    }
   ],
   "source": [
    "a.count(10)  # This is the count fuction"
   ]
  },
  {
   "cell_type": "code",
   "execution_count": 14,
   "id": "657d195f-51d3-48c6-b809-3df56944b69c",
   "metadata": {},
   "outputs": [],
   "source": [
    "a=(10,10.0,\"10\",[1,2,3],(1,2,3))"
   ]
  },
  {
   "cell_type": "code",
   "execution_count": 19,
   "id": "8a4ba932-578e-437f-ad97-0c23c18dc330",
   "metadata": {},
   "outputs": [
    {
     "name": "stdout",
     "output_type": "stream",
     "text": [
      "(10, 10.0, '10', [1, 2, 3], (1, 2, 3))\n"
     ]
    }
   ],
   "source": [
    "print(a)"
   ]
  },
  {
   "cell_type": "code",
   "execution_count": 22,
   "id": "4ce65024-f404-4292-b183-6249fbaed65d",
   "metadata": {},
   "outputs": [
    {
     "data": {
      "text/plain": [
       "2"
      ]
     },
     "execution_count": 22,
     "metadata": {},
     "output_type": "execute_result"
    }
   ],
   "source": [
    "a.index(\"10\")  # its show us index value of the tuple"
   ]
  },
  {
   "cell_type": "code",
   "execution_count": 23,
   "id": "26c7fd2b-136e-4990-87b1-831b8051436a",
   "metadata": {},
   "outputs": [],
   "source": [
    "# Packing and Unpacking Concept"
   ]
  },
  {
   "cell_type": "code",
   "execution_count": 26,
   "id": "51dc3ac3-08ff-4d6c-b105-14a259c4dfe1",
   "metadata": {},
   "outputs": [],
   "source": [
    "# Packing\n",
    "a=1,2,3,4,5"
   ]
  },
  {
   "cell_type": "code",
   "execution_count": 27,
   "id": "5d8cf709-ce1f-4af8-b769-64f7209c28cf",
   "metadata": {},
   "outputs": [
    {
     "name": "stdout",
     "output_type": "stream",
     "text": [
      "(1, 2, 3, 4, 5)\n"
     ]
    }
   ],
   "source": [
    "print(a)"
   ]
  },
  {
   "cell_type": "code",
   "execution_count": 28,
   "id": "1b8e8ce0-b0e5-4aeb-879b-9d85dbab8639",
   "metadata": {},
   "outputs": [],
   "source": [
    "A,B,C,D,E=a  # this all is packing"
   ]
  },
  {
   "cell_type": "code",
   "execution_count": 30,
   "id": "d0fb10ba-9f01-4ed7-b844-79e7c307ea06",
   "metadata": {},
   "outputs": [
    {
     "name": "stdout",
     "output_type": "stream",
     "text": [
      "1\n"
     ]
    }
   ],
   "source": [
    "print(A)"
   ]
  },
  {
   "cell_type": "code",
   "execution_count": 31,
   "id": "2fb4b4f4-056d-473b-a3ce-5f2bfe467f69",
   "metadata": {},
   "outputs": [
    {
     "name": "stdout",
     "output_type": "stream",
     "text": [
      "2\n"
     ]
    }
   ],
   "source": [
    "print(B)"
   ]
  },
  {
   "cell_type": "code",
   "execution_count": 32,
   "id": "ae1f15d0-c54c-4242-a495-e96fb3ca08b5",
   "metadata": {},
   "outputs": [
    {
     "name": "stdout",
     "output_type": "stream",
     "text": [
      "3\n"
     ]
    }
   ],
   "source": [
    "print(C)"
   ]
  },
  {
   "cell_type": "code",
   "execution_count": 49,
   "id": "c8705fc4-3134-419a-beb6-464593a59ee2",
   "metadata": {},
   "outputs": [],
   "source": [
    "#(Unpaking)     m,n,o,p=(1,2,3,4)                                                                # Important\n",
    "              # 0,1,2,3  0,1,2,3  #(m=1,n=2,o=3,p=4 -they match according to the indexing)   "
   ]
  },
  {
   "cell_type": "code",
   "execution_count": 50,
   "id": "b214fab8-490b-4ac5-a993-9427cb60779a",
   "metadata": {},
   "outputs": [
    {
     "name": "stdout",
     "output_type": "stream",
     "text": [
      "1\n"
     ]
    }
   ],
   "source": [
    "print(m)"
   ]
  },
  {
   "cell_type": "code",
   "execution_count": 55,
   "id": "206cbce4-800f-4e59-bba2-d097bd05c10d",
   "metadata": {},
   "outputs": [],
   "source": [
    "m,n,o,*p=(1,2,3,4,5)    # in this ( variable is less but values is more ) then we use extract(*) on varibales\n",
    "                                                                        # ex. we use extract on (P) it means P content two element(4,5)"
   ]
  },
  {
   "cell_type": "code",
   "execution_count": 54,
   "id": "3ffea51f-6c7a-4b83-ba4f-3d2443955800",
   "metadata": {},
   "outputs": [
    {
     "name": "stdout",
     "output_type": "stream",
     "text": [
      "[4, 5]\n"
     ]
    }
   ],
   "source": [
    "print(p)  "
   ]
  },
  {
   "cell_type": "code",
   "execution_count": null,
   "id": "02c2223f-4c8b-4f41-8b1a-49c511438e11",
   "metadata": {},
   "outputs": [],
   "source": []
  }
 ],
 "metadata": {
  "kernelspec": {
   "display_name": "Python 3 (ipykernel)",
   "language": "python",
   "name": "python3"
  },
  "language_info": {
   "codemirror_mode": {
    "name": "ipython",
    "version": 3
   },
   "file_extension": ".py",
   "mimetype": "text/x-python",
   "name": "python",
   "nbconvert_exporter": "python",
   "pygments_lexer": "ipython3",
   "version": "3.11.4"
  }
 },
 "nbformat": 4,
 "nbformat_minor": 5
}
