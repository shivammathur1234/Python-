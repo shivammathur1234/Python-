{
 "cells": [
  {
   "cell_type": "code",
   "execution_count": 1,
   "id": "1de12e2c-df96-482a-89d2-63193ef2ed7a",
   "metadata": {},
   "outputs": [],
   "source": [
    "# Frozenset\n",
    "\n",
    "# Frozenset constructor is ()\n",
    "# Frozenset literal is not available like set\n",
    "# Frozenset is unordered set of sequences of elements\n",
    "# Frozenset does not allowed duplicate values\n",
    "# Frozenset does not allow mutable datatype \n",
    "# Frozenset methods"
   ]
  },
  {
   "cell_type": "code",
   "execution_count": 3,
   "id": "c39a861b-e27a-47c9-afa4-bb15c0817fea",
   "metadata": {},
   "outputs": [],
   "source": [
    "a=frozenset({12,23,32,32,2,2,3,3,85,8,5,99,99})   # it remove duplicay of elements"
   ]
  },
  {
   "cell_type": "code",
   "execution_count": 4,
   "id": "0fa2a50c-66d1-4527-aa19-f13518e86bc1",
   "metadata": {},
   "outputs": [
    {
     "name": "stdout",
     "output_type": "stream",
     "text": [
      "frozenset({32, 2, 99, 3, 5, 8, 12, 85, 23})\n"
     ]
    }
   ],
   "source": [
    "print(a)"
   ]
  },
  {
   "cell_type": "code",
   "execution_count": 15,
   "id": "a479acdc-ec4a-4bd2-9596-5d80d90fe4ad",
   "metadata": {},
   "outputs": [
    {
     "name": "stdout",
     "output_type": "stream",
     "text": [
      "<class 'frozenset'>\n"
     ]
    },
    {
     "data": {
      "text/plain": [
       "['__and__',\n",
       " '__class__',\n",
       " '__class_getitem__',\n",
       " '__contains__',\n",
       " '__delattr__',\n",
       " '__dir__',\n",
       " '__doc__',\n",
       " '__eq__',\n",
       " '__format__',\n",
       " '__ge__',\n",
       " '__getattribute__',\n",
       " '__getstate__',\n",
       " '__gt__',\n",
       " '__hash__',\n",
       " '__init__',\n",
       " '__init_subclass__',\n",
       " '__iter__',\n",
       " '__le__',\n",
       " '__len__',\n",
       " '__lt__',\n",
       " '__ne__',\n",
       " '__new__',\n",
       " '__or__',\n",
       " '__rand__',\n",
       " '__reduce__',\n",
       " '__reduce_ex__',\n",
       " '__repr__',\n",
       " '__ror__',\n",
       " '__rsub__',\n",
       " '__rxor__',\n",
       " '__setattr__',\n",
       " '__sizeof__',\n",
       " '__str__',\n",
       " '__sub__',\n",
       " '__subclasshook__',\n",
       " '__xor__',\n",
       " 'copy',\n",
       " 'difference',\n",
       " 'intersection',\n",
       " 'isdisjoint',\n",
       " 'issubset',\n",
       " 'issuperset',\n",
       " 'symmetric_difference',\n",
       " 'union']"
      ]
     },
     "execution_count": 15,
     "metadata": {},
     "output_type": "execute_result"
    }
   ],
   "source": [
    " # Iterable\n",
    "a= frozenset({1,2,3})\n",
    "print(type(a))\n",
    "dir(a)"
   ]
  },
  {
   "cell_type": "code",
   "execution_count": 10,
   "id": "f084c30b-15bc-4001-b5f7-11321406357b",
   "metadata": {},
   "outputs": [],
   "source": [
    "# Frozenset :- Does not allow mutable data type ( ex.bList , set )"
   ]
  },
  {
   "cell_type": "code",
   "execution_count": 11,
   "id": "08b37d32-8365-4bde-8cb0-15153122b43d",
   "metadata": {},
   "outputs": [
    {
     "ename": "TypeError",
     "evalue": "unhashable type: 'set'",
     "output_type": "error",
     "traceback": [
      "\u001b[1;31m---------------------------------------------------------------------------\u001b[0m",
      "\u001b[1;31mTypeError\u001b[0m                                 Traceback (most recent call last)",
      "Cell \u001b[1;32mIn[11], line 1\u001b[0m\n\u001b[1;32m----> 1\u001b[0m \u001b[38;5;28mfrozenset\u001b[39m({\u001b[38;5;241m1\u001b[39m,\u001b[38;5;241m2\u001b[39m,\u001b[38;5;241m3\u001b[39m,\u001b[38;5;241m4\u001b[39m,{\u001b[38;5;241m1\u001b[39m,\u001b[38;5;241m2\u001b[39m,\u001b[38;5;241m3\u001b[39m,\u001b[38;5;241m4\u001b[39m,\u001b[38;5;241m5\u001b[39m}})\n",
      "\u001b[1;31mTypeError\u001b[0m: unhashable type: 'set'"
     ]
    }
   ],
   "source": [
    "frozenset({1,2,3,4,{1,2,3,4,5}})   # it show error because set is not allow in the frozenset ( set is mutable )"
   ]
  },
  {
   "cell_type": "code",
   "execution_count": 13,
   "id": "a8275476-cc87-45e8-9426-d380ec85db8a",
   "metadata": {},
   "outputs": [
    {
     "ename": "TypeError",
     "evalue": "unhashable type: 'list'",
     "output_type": "error",
     "traceback": [
      "\u001b[1;31m---------------------------------------------------------------------------\u001b[0m",
      "\u001b[1;31mTypeError\u001b[0m                                 Traceback (most recent call last)",
      "Cell \u001b[1;32mIn[13], line 1\u001b[0m\n\u001b[1;32m----> 1\u001b[0m \u001b[38;5;28;43mfrozenset\u001b[39;49m\u001b[43m(\u001b[49m\u001b[43m[\u001b[49m\u001b[38;5;241;43m1\u001b[39;49m\u001b[43m,\u001b[49m\u001b[38;5;241;43m2\u001b[39;49m\u001b[43m,\u001b[49m\u001b[38;5;241;43m3\u001b[39;49m\u001b[43m,\u001b[49m\u001b[38;5;241;43m4\u001b[39;49m\u001b[43m,\u001b[49m\u001b[43m[\u001b[49m\u001b[38;5;241;43m1\u001b[39;49m\u001b[43m,\u001b[49m\u001b[38;5;241;43m2\u001b[39;49m\u001b[43m,\u001b[49m\u001b[38;5;241;43m3\u001b[39;49m\u001b[43m,\u001b[49m\u001b[38;5;241;43m4\u001b[39;49m\u001b[43m,\u001b[49m\u001b[38;5;241;43m5\u001b[39;49m\u001b[43m]\u001b[49m\u001b[43m]\u001b[49m\u001b[43m)\u001b[49m \n",
      "\u001b[1;31mTypeError\u001b[0m: unhashable type: 'list'"
     ]
    }
   ],
   "source": [
    "frozenset([1,2,3,4,[1,2,3,4,5]])  #  it show error because List is not allow in the frozenset ( List is mutable )"
   ]
  },
  {
   "cell_type": "markdown",
   "id": "5f6bf9f8-f99a-4688-891a-1587551290af",
   "metadata": {},
   "source": [
    " # method of frozenset\n",
    "\n",
    "  'copy',   ( its not  working in frozenset )\n",
    " 'difference',   same concept (a-b) (b-a)\n",
    " 'intersection',\n",
    " 'isdisjoint',\n",
    " 'issubset',\n",
    " 'issuperset',\n",
    " 'symmetric_difference',\n",
    " 'union'"
   ]
  },
  {
   "cell_type": "code",
   "execution_count": 16,
   "id": "0d883c3c-215d-4f8f-a119-34a5d575b923",
   "metadata": {},
   "outputs": [],
   "source": [
    "a=frozenset([1,2,3,4,5,6])"
   ]
  },
  {
   "cell_type": "code",
   "execution_count": 17,
   "id": "e3f64645-dd17-4803-9fcd-fed450e72ef8",
   "metadata": {},
   "outputs": [
    {
     "name": "stdout",
     "output_type": "stream",
     "text": [
      "frozenset({1, 2, 3, 4, 5, 6})\n"
     ]
    }
   ],
   "source": [
    "print(a)"
   ]
  },
  {
   "cell_type": "code",
   "execution_count": 19,
   "id": "e90341a3-0251-4e85-bdd6-0b22f21092af",
   "metadata": {},
   "outputs": [],
   "source": [
    "b=frozenset([4,5,6,7,8,9])"
   ]
  },
  {
   "cell_type": "code",
   "execution_count": 20,
   "id": "f7311d94-23ce-47bb-bc1a-7d4b785be9d1",
   "metadata": {},
   "outputs": [
    {
     "data": {
      "text/plain": [
       "frozenset({4, 5, 6})"
      ]
     },
     "execution_count": 20,
     "metadata": {},
     "output_type": "execute_result"
    }
   ],
   "source": [
    "b.intersection(a) # it show us common element in (a and b frozenset)  Ex. 4,5,6 are common "
   ]
  },
  {
   "cell_type": "code",
   "execution_count": 22,
   "id": "896a2081-191a-4cba-811a-d9c6ec049248",
   "metadata": {},
   "outputs": [
    {
     "data": {
      "text/plain": [
       "False"
      ]
     },
     "execution_count": 22,
     "metadata": {},
     "output_type": "execute_result"
    }
   ],
   "source": [
    "b.isdisjoint(a)   # it show us two frozen set are disjoint or not ( Answer will in True or False )"
   ]
  },
  {
   "cell_type": "code",
   "execution_count": 24,
   "id": "dbd9966f-167d-439c-9dd7-5f2f1f2cce96",
   "metadata": {},
   "outputs": [
    {
     "name": "stdout",
     "output_type": "stream",
     "text": [
      "frozenset({1, 2, 3, 4, 5})\n",
      "frozenset({2, 3})\n"
     ]
    },
    {
     "data": {
      "text/plain": [
       "True"
      ]
     },
     "execution_count": 24,
     "metadata": {},
     "output_type": "execute_result"
    }
   ],
   "source": [
    "c=frozenset([1,2,3,4,5])            # ( issuperset and issubset will be answered in True and False )\n",
    "d=frozenset([2,3])\n",
    "print(c)\n",
    "print(d)\n",
    "c.issuperset(d)"
   ]
  },
  {
   "cell_type": "code",
   "execution_count": 25,
   "id": "64777772-6b15-4209-b6cd-a4c750d96aaa",
   "metadata": {},
   "outputs": [
    {
     "name": "stdout",
     "output_type": "stream",
     "text": [
      "frozenset({1, 2, 3, 4, 5})\n",
      "frozenset({2, 3})\n"
     ]
    },
    {
     "data": {
      "text/plain": [
       "True"
      ]
     },
     "execution_count": 25,
     "metadata": {},
     "output_type": "execute_result"
    }
   ],
   "source": [
    "c=frozenset([1,2,3,4,5])\n",
    "d=frozenset([2,3])\n",
    "print(c)\n",
    "print(d)\n",
    "d.issubset(c)"
   ]
  },
  {
   "cell_type": "code",
   "execution_count": 26,
   "id": "e10372c5-49c2-4e8a-98e7-4a27095db0de",
   "metadata": {},
   "outputs": [
    {
     "name": "stdout",
     "output_type": "stream",
     "text": [
      "frozenset({1, 2, 3, 4, 5, 6})\n",
      "frozenset({4, 5, 6, 7, 8, 9})\n"
     ]
    }
   ],
   "source": [
    "print(a)\n",
    "print(b)"
   ]
  },
  {
   "cell_type": "code",
   "execution_count": 27,
   "id": "1f8329f8-9d5c-4435-9660-7af874c985bb",
   "metadata": {},
   "outputs": [
    {
     "data": {
      "text/plain": [
       "frozenset({1, 2, 3, 7, 8, 9})"
      ]
     },
     "execution_count": 27,
     "metadata": {},
     "output_type": "execute_result"
    }
   ],
   "source": [
    "a.symmetric_difference(b)  # it show us differnces in frozenset accept common elements its called symmetric_difference"
   ]
  },
  {
   "cell_type": "code",
   "execution_count": 28,
   "id": "e506c365-c907-4807-b39e-e0726db28290",
   "metadata": {},
   "outputs": [
    {
     "name": "stdout",
     "output_type": "stream",
     "text": [
      "frozenset({1, 2, 3, 4, 5, 6})\n",
      "frozenset({4, 5, 6, 7, 8, 9})\n"
     ]
    }
   ],
   "source": [
    "print(a)\n",
    "print(b)"
   ]
  },
  {
   "cell_type": "code",
   "execution_count": 29,
   "id": "662d5255-12fc-4a42-9cff-64e1b9f68cf4",
   "metadata": {},
   "outputs": [
    {
     "data": {
      "text/plain": [
       "frozenset({1, 2, 3, 4, 5, 6, 7, 8, 9})"
      ]
     },
     "execution_count": 29,
     "metadata": {},
     "output_type": "execute_result"
    }
   ],
   "source": [
    "a.union(b)    # This is union function"
   ]
  },
  {
   "cell_type": "code",
   "execution_count": null,
   "id": "a6e8eb9a-cd65-4b9d-a320-ab0492439f67",
   "metadata": {},
   "outputs": [],
   "source": []
  }
 ],
 "metadata": {
  "kernelspec": {
   "display_name": "Python 3 (ipykernel)",
   "language": "python",
   "name": "python3"
  },
  "language_info": {
   "codemirror_mode": {
    "name": "ipython",
    "version": 3
   },
   "file_extension": ".py",
   "mimetype": "text/x-python",
   "name": "python",
   "nbconvert_exporter": "python",
   "pygments_lexer": "ipython3",
   "version": "3.11.4"
  }
 },
 "nbformat": 4,
 "nbformat_minor": 5
}
