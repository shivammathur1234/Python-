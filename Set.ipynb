{
 "cells": [
  {
   "cell_type": "code",
   "execution_count": 2,
   "id": "ab220176-ab9b-43ab-8879-9640b8ddefda",
   "metadata": {},
   "outputs": [],
   "source": [
    "# set\n",
    "\n",
    "# Set constructor is set()\n",
    "# Set literal is not Available\n",
    "# Set is unordered set of sequences of element\n",
    "# Set doesn't allow of duplicat values\n",
    "# Set is mutable( changable)\n",
    "# Set is not supported Nested set and concatination\n",
    "# Set methods\n",
    "# set does not allow mutable data type "
   ]
  },
  {
   "cell_type": "code",
   "execution_count": 3,
   "id": "c98ea621-0f8f-46b2-8c4f-d9a17c0b1aef",
   "metadata": {},
   "outputs": [],
   "source": [
    "# set {} , but this is not the literal of set we can use it\n",
    "\n",
    "# Set is not ordered"
   ]
  },
  {
   "cell_type": "code",
   "execution_count": 4,
   "id": "4eb163dd-17a3-4511-93f2-0c33955adcfe",
   "metadata": {},
   "outputs": [],
   "source": [
    "a={1,1,1,2,2,3,4,5,6,6}  # It remove duplicacy of element "
   ]
  },
  {
   "cell_type": "code",
   "execution_count": 5,
   "id": "d9c275f5-bffb-40a7-a77b-48c0bd5c6b22",
   "metadata": {},
   "outputs": [
    {
     "name": "stdout",
     "output_type": "stream",
     "text": [
      "{1, 2, 3, 4, 5, 6}\n"
     ]
    }
   ],
   "source": [
    "print(a)    "
   ]
  },
  {
   "cell_type": "code",
   "execution_count": 6,
   "id": "a23413ab-e040-42b4-bf9a-2ee6100f5718",
   "metadata": {},
   "outputs": [],
   "source": [
    "b={4,5,6,7,8,9}"
   ]
  },
  {
   "cell_type": "code",
   "execution_count": 8,
   "id": "33a2522a-1737-4c46-9e69-c0e8de4162d2",
   "metadata": {},
   "outputs": [
    {
     "ename": "TypeError",
     "evalue": "unsupported operand type(s) for +: 'set' and 'set'",
     "output_type": "error",
     "traceback": [
      "\u001b[1;31m---------------------------------------------------------------------------\u001b[0m",
      "\u001b[1;31mTypeError\u001b[0m                                 Traceback (most recent call last)",
      "Cell \u001b[1;32mIn[8], line 1\u001b[0m\n\u001b[1;32m----> 1\u001b[0m \u001b[38;5;28mprint\u001b[39m(\u001b[43ma\u001b[49m\u001b[38;5;241;43m+\u001b[39;49m\u001b[43mb\u001b[49m)\n",
      "\u001b[1;31mTypeError\u001b[0m: unsupported operand type(s) for +: 'set' and 'set'"
     ]
    }
   ],
   "source": [
    "print(a+b) # Set does not support concatination"
   ]
  },
  {
   "cell_type": "code",
   "execution_count": 9,
   "id": "b0bfdf78-8d23-411d-a0b6-47df16d078f9",
   "metadata": {},
   "outputs": [
    {
     "name": "stdout",
     "output_type": "stream",
     "text": [
      "{1, 2, 3}\n"
     ]
    }
   ],
   "source": [
    "print(a-b) # but it can support differnce between (a and b)"
   ]
  },
  {
   "cell_type": "code",
   "execution_count": 10,
   "id": "cde682f8-618d-490c-abc7-8022084afb64",
   "metadata": {},
   "outputs": [
    {
     "name": "stdout",
     "output_type": "stream",
     "text": [
      "{8, 9, 7}\n"
     ]
    }
   ],
   "source": [
    "print(b-a)"
   ]
  },
  {
   "cell_type": "code",
   "execution_count": 11,
   "id": "4e62c2c1-9b49-4f33-8bd3-05cdfd5d9a06",
   "metadata": {},
   "outputs": [
    {
     "name": "stdout",
     "output_type": "stream",
     "text": [
      "{1, 2, 3, 4, 5, 6}\n"
     ]
    }
   ],
   "source": [
    "print(a)"
   ]
  },
  {
   "cell_type": "code",
   "execution_count": 12,
   "id": "1d1fa78f-2680-48d3-9bc1-a1e20511dff4",
   "metadata": {},
   "outputs": [],
   "source": [
    "a.add((2,5,8,96,52))  # This is add function"
   ]
  },
  {
   "cell_type": "code",
   "execution_count": 13,
   "id": "e3c04167-e419-4c69-8753-b60812fd72df",
   "metadata": {},
   "outputs": [
    {
     "name": "stdout",
     "output_type": "stream",
     "text": [
      "{1, 2, 3, 4, 5, 6, (2, 5, 8, 96, 52)}\n"
     ]
    }
   ],
   "source": [
    "print(a)"
   ]
  },
  {
   "cell_type": "code",
   "execution_count": 14,
   "id": "986ef0e3-fd6c-4712-853d-d55c75816129",
   "metadata": {},
   "outputs": [],
   "source": [
    "a.update([42,52,99])  # This is update function ( it update the values in the set)"
   ]
  },
  {
   "cell_type": "code",
   "execution_count": 15,
   "id": "cf9dd073-44bf-4022-811a-2bf796c87883",
   "metadata": {},
   "outputs": [
    {
     "name": "stdout",
     "output_type": "stream",
     "text": [
      "{1, 2, 3, 4, 5, 6, (2, 5, 8, 96, 52), 99, 42, 52}\n"
     ]
    }
   ],
   "source": [
    "print(a)"
   ]
  },
  {
   "cell_type": "code",
   "execution_count": null,
   "id": "993f825d-d5ee-4497-8d6d-dce5acef1d78",
   "metadata": {},
   "outputs": [],
   "source": []
  }
 ],
 "metadata": {
  "kernelspec": {
   "display_name": "Python 3 (ipykernel)",
   "language": "python",
   "name": "python3"
  },
  "language_info": {
   "codemirror_mode": {
    "name": "ipython",
    "version": 3
   },
   "file_extension": ".py",
   "mimetype": "text/x-python",
   "name": "python",
   "nbconvert_exporter": "python",
   "pygments_lexer": "ipython3",
   "version": "3.11.4"
  }
 },
 "nbformat": 4,
 "nbformat_minor": 5
}
