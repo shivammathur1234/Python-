{
 "cells": [
  {
   "cell_type": "code",
   "execution_count": 1,
   "id": "78ce1150-ad33-49c2-95a1-ac063db2f3b2",
   "metadata": {},
   "outputs": [],
   "source": [
    "# Casting ( casting is a process to convert one data type to another data type its called casting"
   ]
  },
  {
   "cell_type": "code",
   "execution_count": 2,
   "id": "79270430-c440-4d3f-a894-a87638f538a4",
   "metadata": {},
   "outputs": [],
   "source": [
    "a=10"
   ]
  },
  {
   "cell_type": "code",
   "execution_count": 5,
   "id": "6921040d-d63b-490c-bacd-969f8a5962a9",
   "metadata": {},
   "outputs": [
    {
     "name": "stdout",
     "output_type": "stream",
     "text": [
      "<class 'int'>\n",
      "10\n"
     ]
    }
   ],
   "source": [
    "print(type(a))\n",
    "print(a)"
   ]
  },
  {
   "cell_type": "code",
   "execution_count": 6,
   "id": "1d3e45c2-6f2c-41fd-948d-b8ec43d818b2",
   "metadata": {},
   "outputs": [],
   "source": [
    " # conversion of integer data type to float data type"
   ]
  },
  {
   "cell_type": "code",
   "execution_count": 10,
   "id": "c3038651-7356-42e8-aaf0-78b367898587",
   "metadata": {},
   "outputs": [
    {
     "name": "stdout",
     "output_type": "stream",
     "text": [
      "10.0\n",
      "<class 'float'>\n"
     ]
    }
   ],
   "source": [
    "b=float(a)\n",
    "print(b)\n",
    "print(type(b))"
   ]
  },
  {
   "cell_type": "code",
   "execution_count": 11,
   "id": "fb6310b8-b5f6-4f1c-8f77-da4b2b7245c9",
   "metadata": {},
   "outputs": [
    {
     "name": "stdout",
     "output_type": "stream",
     "text": [
      "10\n",
      "<class 'str'>\n"
     ]
    }
   ],
   "source": [
    "c=str(a)\n",
    "print(c)\n",
    "print(type(c))"
   ]
  },
  {
   "cell_type": "code",
   "execution_count": 12,
   "id": "1ebed078-bfcc-46dc-8e51-aed44e27dda8",
   "metadata": {},
   "outputs": [],
   "source": [
    "# convertion of float to integer and string"
   ]
  },
  {
   "cell_type": "code",
   "execution_count": 13,
   "id": "ca2bbd08-ddc5-4ee3-a422-12ff5e645d92",
   "metadata": {},
   "outputs": [
    {
     "name": "stdout",
     "output_type": "stream",
     "text": [
      "10.0 <class 'float'>\n"
     ]
    }
   ],
   "source": [
    "d=10.00\n",
    "print(d,type(d))"
   ]
  },
  {
   "cell_type": "code",
   "execution_count": 14,
   "id": "57271d85-58a3-45d6-b5af-1b9200ebcd8d",
   "metadata": {},
   "outputs": [],
   "source": [
    "# string ko intenger mai convert tabhe ker paynge jab number hote (0-9) aagr vaiable aa gaya toh nhai ho payega"
   ]
  },
  {
   "cell_type": "code",
   "execution_count": 16,
   "id": "e16a9dc5-cca0-4c81-b4e8-a8465ba43e2f",
   "metadata": {},
   "outputs": [
    {
     "name": "stdout",
     "output_type": "stream",
     "text": [
      "10 <class 'int'>\n"
     ]
    }
   ],
   "source": [
    "e=\"10\"       \n",
    "h=int(e)              # string convert into integer\n",
    "print(h,type(h))"
   ]
  },
  {
   "cell_type": "code",
   "execution_count": 18,
   "id": "42be8d9d-14f3-4873-b65f-50e0a7d2705c",
   "metadata": {},
   "outputs": [
    {
     "name": "stdout",
     "output_type": "stream",
     "text": [
      "10.0 <class 'float'>\n"
     ]
    }
   ],
   "source": [
    "g=float(e)            # sting convert into float\n",
    "print(g,type(g))"
   ]
  },
  {
   "cell_type": "code",
   "execution_count": 19,
   "id": "f179faef-8740-4a04-896b-fb0141e80699",
   "metadata": {},
   "outputs": [
    {
     "data": {
      "text/plain": [
       "'10'"
      ]
     },
     "execution_count": 19,
     "metadata": {},
     "output_type": "execute_result"
    }
   ],
   "source": [
    "e"
   ]
  },
  {
   "cell_type": "code",
   "execution_count": 21,
   "id": "f14df753-95d4-4b77-ae31-8db5ed13600e",
   "metadata": {},
   "outputs": [
    {
     "data": {
      "text/plain": [
       "10"
      ]
     },
     "execution_count": 21,
     "metadata": {},
     "output_type": "execute_result"
    }
   ],
   "source": [
    "int(float(e))   # we have to convert float into integer"
   ]
  },
  {
   "cell_type": "code",
   "execution_count": 25,
   "id": "c44a0f1f-17d3-45ee-b5f0-d835cc7b3ec3",
   "metadata": {},
   "outputs": [],
   "source": [
    "k=\"10.99\""
   ]
  },
  {
   "cell_type": "code",
   "execution_count": 28,
   "id": "c5010ab6-8647-4f58-99c5-3ebe9192a91b",
   "metadata": {},
   "outputs": [],
   "source": [
    "z=eval(k)     # eval() is used for conversionof string into float and integers (both)"
   ]
  },
  {
   "cell_type": "code",
   "execution_count": 29,
   "id": "7a2b61de-3e08-4e77-9faf-f3fe50ac4aa1",
   "metadata": {},
   "outputs": [
    {
     "name": "stdout",
     "output_type": "stream",
     "text": [
      "10.99 <class 'float'>\n"
     ]
    }
   ],
   "source": [
    "print(z,type(z))"
   ]
  },
  {
   "cell_type": "code",
   "execution_count": 10,
   "id": "f6644115-4371-46a8-8486-137f33e51ea4",
   "metadata": {},
   "outputs": [],
   "source": [
    "# Eval():Eval() function is use for conversion of string to float and int (both)"
   ]
  },
  {
   "cell_type": "code",
   "execution_count": 11,
   "id": "2b3bdeac-fae7-4dc5-9f5c-a90f1b61648c",
   "metadata": {},
   "outputs": [],
   "source": [
    "# Casting on collection kind dataype (list,tuple,set frozenset)"
   ]
  },
  {
   "cell_type": "code",
   "execution_count": null,
   "id": "af83e361-4ff2-4655-affd-6803cb89c629",
   "metadata": {},
   "outputs": [],
   "source": [
    "          # List to tuple"
   ]
  },
  {
   "cell_type": "code",
   "execution_count": 21,
   "id": "40e0fe7e-ffb1-41d8-ae59-7c09692c7830",
   "metadata": {},
   "outputs": [],
   "source": [
    "a=[\"shivam\",\"kunal\",\"rahul\",\"tarun\"]"
   ]
  },
  {
   "cell_type": "code",
   "execution_count": 22,
   "id": "e3b11861-62e3-4fed-860e-e1638259f1ac",
   "metadata": {},
   "outputs": [
    {
     "name": "stdout",
     "output_type": "stream",
     "text": [
      "['shivam', 'kunal', 'rahul', 'tarun']\n"
     ]
    }
   ],
   "source": [
    "print(a)"
   ]
  },
  {
   "cell_type": "code",
   "execution_count": 23,
   "id": "77c8f465-0696-44ca-8e50-d099d4fc8d3f",
   "metadata": {},
   "outputs": [],
   "source": [
    "a.append(\"mahesh\")"
   ]
  },
  {
   "cell_type": "code",
   "execution_count": 24,
   "id": "9435ec59-93cd-44d3-abcc-cb9c2360fed9",
   "metadata": {},
   "outputs": [
    {
     "name": "stdout",
     "output_type": "stream",
     "text": [
      "['shivam', 'kunal', 'rahul', 'tarun', 'mahesh']\n"
     ]
    }
   ],
   "source": [
    "print(a)"
   ]
  },
  {
   "cell_type": "code",
   "execution_count": 28,
   "id": "b3c89119-3841-45ef-8499-827cbf5f5249",
   "metadata": {},
   "outputs": [],
   "source": [
    "b=tuple(a)  # for no change we should change list into tuple ,, after tuple it cannot be change no other shwon in the tuple"
   ]
  },
  {
   "cell_type": "code",
   "execution_count": 27,
   "id": "2565bd07-cc01-4ecf-af71-4f8023bf18d8",
   "metadata": {},
   "outputs": [
    {
     "name": "stdout",
     "output_type": "stream",
     "text": [
      "('shivam', 'kunal', 'rahul', 'tarun', 'mahesh')\n"
     ]
    }
   ],
   "source": [
    "print(b)"
   ]
  },
  {
   "cell_type": "code",
   "execution_count": 29,
   "id": "a3758b28-fb14-4040-b310-28e33a2da20e",
   "metadata": {},
   "outputs": [],
   "source": [
    "   # List to Set"
   ]
  },
  {
   "cell_type": "code",
   "execution_count": 30,
   "id": "4fe15a50-9d31-49f7-bd95-258e9e6be06b",
   "metadata": {},
   "outputs": [],
   "source": [
    "a=[\"shivam\",\"kunal\",\"rahul\",\"tarun\"]"
   ]
  },
  {
   "cell_type": "code",
   "execution_count": 31,
   "id": "f0f86d1e-94b7-40aa-862c-c006806a1547",
   "metadata": {},
   "outputs": [],
   "source": [
    "a.append(\"shivam\")"
   ]
  },
  {
   "cell_type": "code",
   "execution_count": 32,
   "id": "c50871ec-9759-4bc6-a213-5365d08a7315",
   "metadata": {},
   "outputs": [
    {
     "name": "stdout",
     "output_type": "stream",
     "text": [
      "['shivam', 'kunal', 'rahul', 'tarun', 'shivam']\n"
     ]
    }
   ],
   "source": [
    "print(a)"
   ]
  },
  {
   "cell_type": "code",
   "execution_count": 33,
   "id": "978ade47-6b19-410b-96fd-2084f34438dc",
   "metadata": {},
   "outputs": [
    {
     "data": {
      "text/plain": [
       "{'kunal', 'rahul', 'shivam', 'tarun'}"
      ]
     },
     "execution_count": 33,
     "metadata": {},
     "output_type": "execute_result"
    }
   ],
   "source": [
    "set(a)   # it remove duplicasy"
   ]
  },
  {
   "cell_type": "code",
   "execution_count": 34,
   "id": "e3e0c83e-08c5-48ff-b52d-a7312a9d6a6e",
   "metadata": {},
   "outputs": [],
   "source": [
    "b=set(a)"
   ]
  },
  {
   "cell_type": "code",
   "execution_count": 35,
   "id": "7b56f425-e6f0-4b72-9ea1-976e3778ac71",
   "metadata": {},
   "outputs": [
    {
     "name": "stdout",
     "output_type": "stream",
     "text": [
      "{'shivam', 'rahul', 'kunal', 'tarun'}\n"
     ]
    }
   ],
   "source": [
    "print(b)"
   ]
  },
  {
   "cell_type": "code",
   "execution_count": 36,
   "id": "da8d5fe4-323b-453b-a652-3ec366344a21",
   "metadata": {},
   "outputs": [],
   "source": [
    "  # List to frozenset()"
   ]
  },
  {
   "cell_type": "code",
   "execution_count": 37,
   "id": "b7049969-8ee1-4cb3-8eec-11541bfbe66b",
   "metadata": {},
   "outputs": [],
   "source": [
    "a=[\"shivam\",\"kunal\",\"rahul\",\"tarun\"]"
   ]
  },
  {
   "cell_type": "code",
   "execution_count": 38,
   "id": "be4f1404-6c46-40b8-a690-a02477f4d1d5",
   "metadata": {},
   "outputs": [
    {
     "data": {
      "text/plain": [
       "frozenset({'kunal', 'rahul', 'shivam', 'tarun'})"
      ]
     },
     "execution_count": 38,
     "metadata": {},
     "output_type": "execute_result"
    }
   ],
   "source": [
    "frozenset(a)         # frozen set is also remove duplicasy"
   ]
  },
  {
   "cell_type": "code",
   "execution_count": 39,
   "id": "dea60e5f-14fe-4023-a358-77f69afbe86f",
   "metadata": {},
   "outputs": [],
   "source": [
    "# Tuple to list, set, frozenset"
   ]
  },
  {
   "cell_type": "code",
   "execution_count": 5,
   "id": "64a850b8-305b-4317-b079-44f66197b06f",
   "metadata": {},
   "outputs": [],
   "source": [
    "a=(\"shivam\",\"kunal\",\"rahul\",\"tarun\")  # tuple is not remove duplicasy"
   ]
  },
  {
   "cell_type": "code",
   "execution_count": 6,
   "id": "c6eede18-1eef-4529-90ef-a805c0f48e22",
   "metadata": {},
   "outputs": [
    {
     "name": "stdout",
     "output_type": "stream",
     "text": [
      "<class 'tuple'> ('shivam', 'kunal', 'rahul', 'tarun')\n"
     ]
    }
   ],
   "source": [
    "print(type(a),a)"
   ]
  },
  {
   "cell_type": "code",
   "execution_count": 7,
   "id": "c2acff16-ee9b-4e36-89b6-d4e69fdc6bdd",
   "metadata": {},
   "outputs": [],
   "source": [
    "# to list "
   ]
  },
  {
   "cell_type": "code",
   "execution_count": 8,
   "id": "d6014dcb-50fb-4017-bf87-65c154b5aba3",
   "metadata": {},
   "outputs": [],
   "source": [
    "b=list(a)  # we assigned A into B for make list and after this we able to changes in the list"
   ]
  },
  {
   "cell_type": "code",
   "execution_count": 9,
   "id": "69458758-55be-4f22-a911-958b443ce5ff",
   "metadata": {},
   "outputs": [
    {
     "data": {
      "text/plain": [
       "['shivam', 'kunal', 'rahul', 'tarun']"
      ]
     },
     "execution_count": 9,
     "metadata": {},
     "output_type": "execute_result"
    }
   ],
   "source": [
    "b"
   ]
  },
  {
   "cell_type": "code",
   "execution_count": 15,
   "id": "f8da8e23-2c8d-435d-a297-4bece679a1d8",
   "metadata": {},
   "outputs": [],
   "source": [
    "b.append(\"kunal\") "
   ]
  },
  {
   "cell_type": "code",
   "execution_count": 16,
   "id": "937a1a57-70dd-4dfc-8a38-748b06b18452",
   "metadata": {},
   "outputs": [
    {
     "name": "stdout",
     "output_type": "stream",
     "text": [
      "['shivam', 'kunal', 'rahul', 'tarun', 'tree', 'kunal']\n"
     ]
    }
   ],
   "source": [
    "print(b)"
   ]
  },
  {
   "cell_type": "code",
   "execution_count": 17,
   "id": "37ebe11c-5663-43c6-8953-18fc055d1ca1",
   "metadata": {},
   "outputs": [],
   "source": [
    "a=tuple(b)  # list into tuple after this we cant make changes into the tuple"
   ]
  },
  {
   "cell_type": "code",
   "execution_count": 18,
   "id": "dd61ae9c-6f21-4198-b553-20a031d5bb7d",
   "metadata": {},
   "outputs": [],
   "source": [
    "# tuple to set"
   ]
  },
  {
   "cell_type": "code",
   "execution_count": 20,
   "id": "379157c3-e8d1-481f-ad34-89ab57af7ef3",
   "metadata": {},
   "outputs": [
    {
     "name": "stdout",
     "output_type": "stream",
     "text": [
      "('shivam', 'kunal', 'rahul', 'tarun', 'tree', 'kunal')\n"
     ]
    }
   ],
   "source": [
    "print(a)"
   ]
  },
  {
   "cell_type": "code",
   "execution_count": 21,
   "id": "96914b65-0828-4406-9172-011d79665e0e",
   "metadata": {},
   "outputs": [
    {
     "data": {
      "text/plain": [
       "{'kunal', 'rahul', 'shivam', 'tarun', 'tree'}"
      ]
     },
     "execution_count": 21,
     "metadata": {},
     "output_type": "execute_result"
    }
   ],
   "source": [
    "set(a)             # it remove duplicasy "
   ]
  },
  {
   "cell_type": "code",
   "execution_count": 22,
   "id": "d59ea5b5-9488-4319-86b2-c59d48b4af4a",
   "metadata": {},
   "outputs": [],
   "source": [
    "# tuple to frozenset"
   ]
  },
  {
   "cell_type": "code",
   "execution_count": 23,
   "id": "47bfdd3b-fc34-468c-92c7-3062788ba350",
   "metadata": {},
   "outputs": [
    {
     "data": {
      "text/plain": [
       "frozenset({'kunal', 'rahul', 'shivam', 'tarun', 'tree'})"
      ]
     },
     "execution_count": 23,
     "metadata": {},
     "output_type": "execute_result"
    }
   ],
   "source": [
    "frozenset(a)"
   ]
  },
  {
   "cell_type": "code",
   "execution_count": null,
   "id": "7b49f777-91b0-4d50-be5f-421a9d093797",
   "metadata": {},
   "outputs": [],
   "source": []
  }
 ],
 "metadata": {
  "kernelspec": {
   "display_name": "Python 3 (ipykernel)",
   "language": "python",
   "name": "python3"
  },
  "language_info": {
   "codemirror_mode": {
    "name": "ipython",
    "version": 3
   },
   "file_extension": ".py",
   "mimetype": "text/x-python",
   "name": "python",
   "nbconvert_exporter": "python",
   "pygments_lexer": "ipython3",
   "version": "3.11.4"
  }
 },
 "nbformat": 4,
 "nbformat_minor": 5
}
